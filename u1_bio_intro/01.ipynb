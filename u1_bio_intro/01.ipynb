{
 "cells": [
  {
   "cell_type": "markdown",
   "metadata": {
    "nbgrader": {
     "grade": false,
     "locked": true,
     "solution": false
    }
   },
   "source": [
    "# Day 1 (9/7) in-class notebook\n",
    "\n",
    "The objectives of this notebook are to practice\n",
    "* representing DNA molecules as strings\n",
    "* determining the complementary strand of a double-stranded DNA molecule\n",
    "* working with strings\n",
    "* working with lists\n",
    "* writing functions\n",
    "* looping over sequences\n",
    "* using and submitting Jupyter notebooks\n"
   ]
  },
  {
   "cell_type": "markdown",
   "metadata": {
    "nbgrader": {
     "grade": false,
     "locked": true,
     "solution": false
    }
   },
   "source": [
    "## Providing answers to problems in Jupyter Notebooks\n",
    "\n",
    "Much of your in-class and homework will be done in Jupyter Notebooks with a Python 3 kernel.  In general, you will be provided with a *template* notebook and your job will be to fill in the missing sections by following the specifications preceding each missing section.  The missing sections may be either code blocks, text (in Markdown), or perhaps even a plot.  \n",
    "\n",
    "Following each missing section will be some tests (in the form of `assert` statements) of the accuracy of your solutions.  Some tests will be visible to you and others may be hidden for the purposes of grading.  You should not modify the test blocks, but you should certainly run them to see if your code is passing the visible tests.  Do not worry if you modify the test blocks.  They will be automatically replaced with their original tests when you submit."
   ]
  },
  {
   "cell_type": "markdown",
   "metadata": {
    "nbgrader": {
     "grade": false,
     "locked": true,
     "solution": false
    }
   },
   "source": [
    "### PROBLEM 1 - variable assignment (10 POINTS)\n",
    "Your first excercise/problem is to simply assign to the variable `my_name` a string containing your name.  Please do so in the code cell below."
   ]
  },
  {
   "cell_type": "code",
   "execution_count": 5,
   "metadata": {
    "collapsed": true
   },
   "outputs": [],
   "source": [
    "#\n",
    "# YOUR CODE HERE\n",
    "my_name = \"John McCloskey\"\n",
    "#\n"
   ]
  },
  {
   "cell_type": "markdown",
   "metadata": {
    "nbgrader": {
     "grade": false,
     "locked": true,
     "solution": false
    }
   },
   "source": [
    "The code block below will test that you have successfully assigned a non-empty string to the variable `my_name`."
   ]
  },
  {
   "cell_type": "code",
   "execution_count": 4,
   "metadata": {
    "collapsed": true,
    "nbgrader": {
     "grade": true,
     "grade_id": "variable_assignment",
     "locked": true,
     "points": "10",
     "solution": false
    }
   },
   "outputs": [],
   "source": [
    "assert isinstance(my_name, str) and my_name != \"\""
   ]
  },
  {
   "cell_type": "markdown",
   "metadata": {},
   "source": [
    "## Representing and working with DNA molecules as strings\n",
    "\n",
    "In this notebook we will work with a fragment of the DNA sequence for the human gene *CFTR*, mutations in which are known to cause the disease [Cystic Fibrosis](https://en.wikipedia.org/wiki/Cystic_fibrosis)."
   ]
  },
  {
   "cell_type": "code",
   "execution_count": 6,
   "metadata": {
    "nbgrader": {
     "grade": false,
     "locked": true,
     "solution": false
    }
   },
   "outputs": [
    {
     "name": "stdout",
     "output_type": "stream",
     "text": [
      "ACTTCACTTCTAATGGTGATTATGGGAGAACTGGAGCCTTCAGAGGGTAAAATTAAGCACAGTGGAAGAATTTCATTCTGTTCTCAGTTTTCCTGGATTATGCCTGGCACCATTAAAGAAAATATCATCTTTGGTGTTTCCTATGATGAATATAGATACAGAAGCGTCATCAAAGCATGCCAACTAGAAGAG\n"
     ]
    }
   ],
   "source": [
    "cftr_gene_fragment = (\"ACTTCACTTCTAATGGTGATTATGGGAGAACTGGAGCCTTCAGAGGGTAA\"\n",
    "                      \"AATTAAGCACAGTGGAAGAATTTCATTCTGTTCTCAGTTTTCCTGGATTA\"\n",
    "                      \"TGCCTGGCACCATTAAAGAAAATATCATCTTTGGTGTTTCCTATGATGAA\"\n",
    "                      \"TATAGATACAGAAGCGTCATCAAAGCATGCCAACTAGAAGAG\")\n",
    "print(cftr_gene_fragment)"
   ]
  },
  {
   "cell_type": "markdown",
   "metadata": {},
   "source": [
    "Just to get you familiar with writing functions in Python, here is a silly function that returns the concatenation of the first and last characters of a string."
   ]
  },
  {
   "cell_type": "code",
   "execution_count": 7,
   "metadata": {
    "collapsed": true
   },
   "outputs": [],
   "source": [
    "def first_and_last(s):\n",
    "    return s[0] + s[-1]"
   ]
  },
  {
   "cell_type": "code",
   "execution_count": 8,
   "metadata": {
    "scrolled": true
   },
   "outputs": [
    {
     "data": {
      "text/plain": [
       "'AG'"
      ]
     },
     "execution_count": 8,
     "metadata": {},
     "output_type": "execute_result"
    }
   ],
   "source": [
    "first_and_last(cftr_gene_fragment)"
   ]
  },
  {
   "cell_type": "markdown",
   "metadata": {},
   "source": [
    "### PROBLEM 2 - slicing and concatenating strings (1 POINT)\n",
    "\n",
    "One of the most famous disease causing mutations in humans is the deltaF508 mutation in the *CFTR* gene.  This is most common mutation carried by people with Cystic Fibrosis.  This mutation occurs in the gene fragment specified above and corresponds to the deletion of 3 consecutive bases, starting at base 129 (using 1-based numbering).  The code below shows how to \"slice\" the string represnting this gene fragment to determine the identify of the 3 bases that are deleted by this mutation.  Note that Python uses 0-based indexing!\n"
   ]
  },
  {
   "cell_type": "code",
   "execution_count": 9,
   "metadata": {
    "nbgrader": {
     "grade": false,
     "locked": true,
     "solution": false
    }
   },
   "outputs": [
    {
     "name": "stdout",
     "output_type": "stream",
     "text": [
      "The deleted bases in the deltaF508 mutation are CTT\n"
     ]
    }
   ],
   "source": [
    "print(\"The deleted bases in the deltaF508 mutation are\", cftr_gene_fragment[128:131])"
   ]
  },
  {
   "cell_type": "markdown",
   "metadata": {},
   "source": [
    "In this problem, you are to write a function that takes as input a string, a `start` position (0-based index), and a `length`, and returns a new string that is the result of deleting `length` characters starting at the `start position` from the input string.  We will use this function to determine the sequence of the gene fragment that results from the deltaF508 mutation."
   ]
  },
  {
   "cell_type": "code",
   "execution_count": 14,
   "metadata": {
    "collapsed": true
   },
   "outputs": [],
   "source": [
    "def delete_substring(s, start, length):\n",
    "    #\n",
    "    # YOUR CODE HERE\n",
    "    return s[:start]+s[start+length:]\n",
    "    #\n",
    "#delete_substring(\"John\",1,2)"
   ]
  },
  {
   "cell_type": "code",
   "execution_count": 15,
   "metadata": {
    "collapsed": true,
    "nbgrader": {
     "grade": true,
     "grade_id": "delete_substring",
     "locked": true,
     "points": "1",
     "solution": false
    }
   },
   "outputs": [],
   "source": [
    "# Here are some tests of your function\n",
    "assert delete_substring(\"Testing\", 0, 2) == \"sting\"\n",
    "assert delete_substring(\"Testing\", 4, 3) == \"Test\"\n",
    "assert delete_substring(\"Testing\", 1, 3) == \"Ting\""
   ]
  },
  {
   "cell_type": "markdown",
   "metadata": {},
   "source": [
    "Now let's use your function to determine the sequence of the gene fragment that results from the deltaF508 mutation:"
   ]
  },
  {
   "cell_type": "code",
   "execution_count": 16,
   "metadata": {},
   "outputs": [
    {
     "data": {
      "text/plain": [
       "'ACTTCACTTCTAATGGTGATTATGGGAGAACTGGAGCCTTCAGAGGGTAAAATTAAGCACAGTGGAAGAATTTCATTCTGTTCTCAGTTTTCCTGGATTATGCCTGGCACCATTAAAGAAAATATCATTGGTGTTTCCTATGATGAATATAGATACAGAAGCGTCATCAAAGCATGCCAACTAGAAGAG'"
      ]
     },
     "execution_count": 16,
     "metadata": {},
     "output_type": "execute_result"
    }
   ],
   "source": [
    "delete_substring(cftr_gene_fragment, 128, 3)"
   ]
  },
  {
   "cell_type": "markdown",
   "metadata": {},
   "source": [
    "### PROBLEM 3 - complementary bases (1 POINT)\n",
    "In this problem we will practice using the Python `if` statement to write a function that returns the complement of a single-base (single-character) string.  You are provided with the first few lines of the function."
   ]
  },
  {
   "cell_type": "code",
   "execution_count": 17,
   "metadata": {
    "collapsed": true
   },
   "outputs": [],
   "source": [
    "def complement(base):\n",
    "    if base == 'A':\n",
    "        return 'T'\n",
    "    elif base == 'C':\n",
    "    #\n",
    "    # YOUR CODE HERE\n",
    "        return 'G'\n",
    "    elif base == 'T':\n",
    "        return 'A'\n",
    "    elif base == 'G':\n",
    "        return 'C'\n",
    "    #\n",
    "    else:\n",
    "        raise ValueError(base + \" is not a valid DNA base\")"
   ]
  },
  {
   "cell_type": "code",
   "execution_count": 18,
   "metadata": {
    "collapsed": true,
    "nbgrader": {
     "grade": true,
     "grade_id": "complement",
     "locked": true,
     "points": "1",
     "solution": false
    },
    "scrolled": true
   },
   "outputs": [],
   "source": [
    "assert complement('A') == 'T'\n",
    "assert complement('T') == 'A'\n",
    "assert complement('C') == 'G'\n",
    "assert complement('G') == 'C'"
   ]
  },
  {
   "cell_type": "markdown",
   "metadata": {},
   "source": [
    "### PROBLEM 4 - reverse complement (1 POINT)\n",
    "Finally, in this problem, we will write a function that is given the string representing one strand of a double-stranded DNA molecule and returns a string representing the opposite (complementary) strand, specified in the 5' to 3' direction.  To do this, we will first construct a `list` containing the characters of the opposite strand and then use the `join` method of string objects to convert from a `list` back to a `string`.  This will be more efficient than repeated concatentation."
   ]
  },
  {
   "cell_type": "markdown",
   "metadata": {},
   "source": [
    "One function you might consider using is `reversed`, which allows you to loop over sequences in reverse order.  For example:"
   ]
  },
  {
   "cell_type": "code",
   "execution_count": 19,
   "metadata": {},
   "outputs": [
    {
     "name": "stdout",
     "output_type": "stream",
     "text": [
      "4\n",
      "3\n",
      "2\n",
      "1\n",
      "0\n"
     ]
    }
   ],
   "source": [
    "for number in reversed(range(5)):\n",
    "    print(number)"
   ]
  },
  {
   "cell_type": "code",
   "execution_count": 30,
   "metadata": {
    "collapsed": true
   },
   "outputs": [],
   "source": [
    "def reverse_complement(s):\n",
    "    # we first start with an empty list\n",
    "    opposite_bases = []\n",
    "    # using a for loop, we loop through the bases of s in *reverse* order\n",
    "    # and append the complementary base to the opposite bases list\n",
    "    #\n",
    "    # YOUR CODE HERE\n",
    "    for base in reversed(s):\n",
    "        opposite_bases.append(complement(base))\n",
    "    #\n",
    "    # we can use the 'join' method with an empty string\n",
    "    # to concatenate all strings in the list\n",
    "    return ''.join(opposite_bases)\n",
    "# reverse_complement(\"ATG\")"
   ]
  },
  {
   "cell_type": "code",
   "execution_count": 31,
   "metadata": {
    "collapsed": true,
    "nbgrader": {
     "grade": true,
     "grade_id": "reverse_complement",
     "locked": true,
     "points": "1",
     "solution": false
    }
   },
   "outputs": [],
   "source": [
    "assert reverse_complement(\"ATCG\") == \"CGAT\"\n",
    "assert reverse_complement(\"A\") == \"T\"\n",
    "assert reverse_complement(\"\") == \"\""
   ]
  },
  {
   "cell_type": "markdown",
   "metadata": {},
   "source": [
    "Finally, let us use your `reverse_complement` function to determine the opposite strand of the *CFTR* gene fragment that we have working with in this notebook."
   ]
  },
  {
   "cell_type": "code",
   "execution_count": 32,
   "metadata": {},
   "outputs": [
    {
     "data": {
      "text/plain": [
       "'CTCTTCTAGTTGGCATGCTTTGATGACGCTTCTGTATCTATATTCATCATAGGAAACACCAAAGATGATATTTTCTTTAATGGTGCCAGGCATAATCCAGGAAAACTGAGAACAGAATGAAATTCTTCCACTGTGCTTAATTTTACCCTCTGAAGGCTCCAGTTCTCCCATAATCACCATTAGAAGTGAAGT'"
      ]
     },
     "execution_count": 32,
     "metadata": {},
     "output_type": "execute_result"
    }
   ],
   "source": [
    "reverse_complement(cftr_gene_fragment)"
   ]
  },
  {
   "cell_type": "markdown",
   "metadata": {},
   "source": [
    "## Submitting your notebook"
   ]
  },
  {
   "cell_type": "markdown",
   "metadata": {},
   "source": [
    "Congratulations, you have reached the end of this notebook!  To submit your work, press the big blue \"Submit\" button at the top of this web page.  You may submit as many times as you wish and your final grade will be based on your most recent submission.  After you submit, a grade report will become available telling you how many points you received on each problem in the notebook."
   ]
  }
 ],
 "metadata": {
  "kernelspec": {
   "display_name": "Python 3",
   "language": "python",
   "name": "python3"
  },
  "language_info": {
   "codemirror_mode": {
    "name": "ipython",
    "version": 3
   },
   "file_extension": ".py",
   "mimetype": "text/x-python",
   "name": "python",
   "nbconvert_exporter": "python",
   "pygments_lexer": "ipython3",
   "version": "3.5.2"
  }
 },
 "nbformat": 4,
 "nbformat_minor": 2
}
