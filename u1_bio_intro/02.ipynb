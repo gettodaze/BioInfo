{
 "cells": [
  {
   "cell_type": "markdown",
   "metadata": {
    "nbgrader": {
     "grade": false,
     "locked": true,
     "solution": false
    }
   },
   "source": [
    "# Day 2 (9/10) in-class notebook\n",
    "\n",
    "The objectives of this notebook are to practice\n",
    "* the concept of transcription of DNA to RNA\n",
    "* the concept of translation of RNA to protein\n",
    "* determining the consequences of mutations in protein-coding DNA\n",
    "* using dictionaries\n",
    "* using list comprehensions\n",
    "* using the methods of string objects"
   ]
  },
  {
   "cell_type": "markdown",
   "metadata": {
    "nbgrader": {
     "grade": false,
     "locked": true,
     "solution": false
    }
   },
   "source": [
    "## PROBLEM 1 - transcription (1 POINT)\n",
    "As a warm-up problem, write a function that takes as input a DNA string (sense strand) and outputs the string representing the RNA that would result from transcribing this DNA sequence."
   ]
  },
  {
   "cell_type": "markdown",
   "metadata": {
    "nbgrader": {
     "grade": false,
     "locked": true,
     "solution": false
    }
   },
   "source": [
    "You will likely find one of [methods of string objects](https://docs.python.org/3/library/stdtypes.html#string-methods) very convenient for accomplishing this with a single line.  For example, to obtain a string with characters of a string in uppercase, you can use the `upper` method."
   ]
  },
  {
   "cell_type": "code",
   "execution_count": 1,
   "metadata": {
    "nbgrader": {
     "grade": false,
     "locked": true,
     "solution": false
    }
   },
   "outputs": [
    {
     "data": {
      "text/plain": [
       "'ACTGGGGTTATGATTAG'"
      ]
     },
     "execution_count": 1,
     "metadata": {},
     "output_type": "execute_result"
    }
   ],
   "source": [
    "\"AcTggggTTatgatTAG\".upper()"
   ]
  },
  {
   "cell_type": "code",
   "execution_count": 2,
   "metadata": {
    "collapsed": true
   },
   "outputs": [],
   "source": [
    "def transcribe(dna_sequence):\n",
    "#\n",
    "# YOUR CODE HERE\n",
    "    return dna_sequence.replace(\"T\",\"U\")\n",
    "    \n",
    "#\n"
   ]
  },
  {
   "cell_type": "code",
   "execution_count": 3,
   "metadata": {
    "nbgrader": {
     "grade": true,
     "grade_id": "transcribe",
     "locked": true,
     "points": "1",
     "solution": false
    }
   },
   "outputs": [
    {
     "name": "stdout",
     "output_type": "stream",
     "text": [
      "SUCCESS: transcribe passed all tests!\n"
     ]
    }
   ],
   "source": [
    "# tests for function transcribe\n",
    "assert transcribe(\"ACGT\") == \"ACGU\", \"Failed on input 'ACGT'\"\n",
    "assert transcribe(\"\") == \"\", \"Failed on empty string input\"\n",
    "assert transcribe(\"CTACTACTGCTA\") == 'CUACUACUGCUA', \"Failed on input 'CTACTACTGCTA'\"\n",
    "print(\"SUCCESS: transcribe passed all tests!\")"
   ]
  },
  {
   "cell_type": "markdown",
   "metadata": {
    "nbgrader": {
     "grade": false,
     "locked": true,
     "solution": false
    }
   },
   "source": [
    "## PROBLEM 2 - codon translation (1 POINT)"
   ]
  },
  {
   "cell_type": "markdown",
   "metadata": {
    "nbgrader": {
     "grade": false,
     "locked": true,
     "solution": false
    }
   },
   "source": [
    "Next we will explore the use of the Python [dictionary](https://docs.python.org/3/tutorial/datastructures.html#dictionaries) data structure as a convenient way in which to implement a function that translates RNA to protein."
   ]
  },
  {
   "cell_type": "markdown",
   "metadata": {
    "nbgrader": {
     "grade": false,
     "locked": true,
     "solution": false
    }
   },
   "source": [
    "First, we will start by translating a single codon.  We could write a giant set of if-elif statements for this, but it will be more elegant, convenient, and (usually) efficient to implement this as a lookup in a table, such as a dictionary object.  I have done the hard work for you and specified the standard genetic code (RNA codon to amino acid) as a dictionary below. "
   ]
  },
  {
   "cell_type": "code",
   "execution_count": 4,
   "metadata": {
    "collapsed": true,
    "nbgrader": {
     "grade": false,
     "locked": true,
     "solution": false
    }
   },
   "outputs": [],
   "source": [
    "genetic_code = {\n",
    " 'AAA': 'K', 'AAC': 'N', 'AAG': 'K', 'AAU': 'N',\n",
    " 'ACA': 'U', 'ACC': 'U', 'ACG': 'U', 'ACU': 'U',\n",
    " 'AGA': 'R', 'AGC': 'S', 'AGG': 'R', 'AGU': 'S',\n",
    " 'AUA': 'I', 'AUC': 'I', 'AUG': 'M', 'AUU': 'I',\n",
    " 'CAA': 'Q', 'CAC': 'H', 'CAG': 'Q', 'CAU': 'H',\n",
    " 'CCA': 'P', 'CCC': 'P', 'CCG': 'P', 'CCU': 'P',\n",
    " 'CGA': 'R', 'CGC': 'R', 'CGG': 'R', 'CGU': 'R',\n",
    " 'CUA': 'L', 'CUC': 'L', 'CUG': 'L', 'CUU': 'L',\n",
    " 'GAA': 'E', 'GAC': 'D', 'GAG': 'E', 'GAU': 'D',\n",
    " 'GCA': 'A', 'GCC': 'A', 'GCG': 'A', 'GCU': 'A',\n",
    " 'GGA': 'G', 'GGC': 'G', 'GGG': 'G', 'GGU': 'G',\n",
    " 'GUA': 'V', 'GUC': 'V', 'GUG': 'V', 'GUU': 'V',\n",
    " 'UAA': '*', 'UAC': 'Y', 'UAG': '*', 'UAU': 'Y',\n",
    " 'UCA': 'S', 'UCC': 'S', 'UCG': 'S', 'UCU': 'S',\n",
    " 'UGA': '*', 'UGC': 'C', 'UGG': 'W', 'UGU': 'C',\n",
    " 'UUA': 'L', 'UUC': 'F', 'UUG': 'L', 'UUU': 'F'}"
   ]
  },
  {
   "cell_type": "markdown",
   "metadata": {
    "nbgrader": {
     "grade": false,
     "locked": true,
     "solution": false
    }
   },
   "source": [
    "Note that in the table above, `*` is used to represent a stop codon, and is not an amino acid."
   ]
  },
  {
   "cell_type": "markdown",
   "metadata": {
    "nbgrader": {
     "grade": false,
     "locked": true,
     "solution": false
    }
   },
   "source": [
    "Using this dictionary object, write a function that takes as input a single RNA codon string and outputs its corresponding amino acid, or the symbol representing the stop codon.  You need not check that the input is valid."
   ]
  },
  {
   "cell_type": "code",
   "execution_count": 5,
   "metadata": {
    "collapsed": true
   },
   "outputs": [],
   "source": [
    "def translate_codon(rna_codon):\n",
    "#\n",
    "# YOUR CODE HERE\n",
    "    return genetic_code[rna_codon]\n",
    "#\n"
   ]
  },
  {
   "cell_type": "code",
   "execution_count": 6,
   "metadata": {
    "nbgrader": {
     "grade": true,
     "grade_id": "translate_codon",
     "locked": true,
     "points": "1",
     "solution": false
    }
   },
   "outputs": [
    {
     "name": "stdout",
     "output_type": "stream",
     "text": [
      "SUCCESS: translate_codon passed all tests!\n"
     ]
    }
   ],
   "source": [
    "# tests for function translate_codon\n",
    "assert translate_codon(\"ACG\") == \"U\", \"Failed on input 'ACG'\"\n",
    "assert translate_codon(\"UUU\") == \"F\", \"Failed on input 'UUU'\"\n",
    "assert translate_codon(\"UGA\") == \"*\", \"Failed on input 'UGA'\"\n",
    "\n",
    "# Check that the genetic_code dictionary is being used\n",
    "orig_genetic_code = genetic_code\n",
    "del genetic_code\n",
    "try:\n",
    "    translate_codon(\"ACG\")\n",
    "except NameError:\n",
    "    pass\n",
    "else:\n",
    "    raise AssertionError(\"translate_codon does not use genetic_code\")\n",
    "finally:\n",
    "    genetic_code = orig_genetic_code\n",
    "\n",
    "print(\"SUCCESS: translate_codon passed all tests!\")"
   ]
  },
  {
   "cell_type": "markdown",
   "metadata": {
    "nbgrader": {
     "grade": false,
     "locked": true,
     "solution": false
    }
   },
   "source": [
    "## PROBLEM 3 - Splitting an RNA into its codons (1 POINT)"
   ]
  },
  {
   "cell_type": "markdown",
   "metadata": {
    "nbgrader": {
     "grade": false,
     "locked": true,
     "solution": false
    }
   },
   "source": [
    "We will next write a function that takes as input an RNA string and returns a list of its codons, in the same order as they appear in the RNA.  We will assume that the first three bases of the RNA correspond to a codon and that the length of RNA is a multiple of three."
   ]
  },
  {
   "cell_type": "markdown",
   "metadata": {
    "nbgrader": {
     "grade": false,
     "locked": true,
     "solution": false
    }
   },
   "source": [
    "In this problem I encourage you to learn about and use Python's [list comprehension](https://docs.python.org/3/tutorial/datastructures.html#list-comprehensions) syntax, which is concise way to construct a list.  For example, the code below, which constructs a list of the squares of the first ten non-negative integers"
   ]
  },
  {
   "cell_type": "code",
   "execution_count": 7,
   "metadata": {
    "collapsed": true,
    "nbgrader": {
     "grade": false,
     "locked": true,
     "solution": false
    }
   },
   "outputs": [],
   "source": [
    "squares = []\n",
    "for x in range(10):\n",
    "    squares.append(x**2)"
   ]
  },
  {
   "cell_type": "markdown",
   "metadata": {
    "nbgrader": {
     "grade": false,
     "locked": true,
     "solution": false
    }
   },
   "source": [
    "can be more concisely writtten as"
   ]
  },
  {
   "cell_type": "code",
   "execution_count": 8,
   "metadata": {
    "collapsed": true,
    "nbgrader": {
     "grade": false,
     "locked": true,
     "solution": false
    }
   },
   "outputs": [],
   "source": [
    "squares = [x**2 for x in range(10)]"
   ]
  },
  {
   "cell_type": "code",
   "execution_count": 9,
   "metadata": {
    "collapsed": true
   },
   "outputs": [],
   "source": [
    "def codons(rna):\n",
    "#\n",
    "# YOUR CODE HERE\n",
    "    return [codon for codon in [rna[i*3:(i+1)*3] for i in range(len(rna)//3)]]\n",
    "    #print(codons)\n",
    "    #print(len(rna))\n",
    "    \n",
    "#codons(\"\")\n",
    "#\n"
   ]
  },
  {
   "cell_type": "code",
   "execution_count": 10,
   "metadata": {
    "nbgrader": {
     "grade": true,
     "grade_id": "codons",
     "locked": true,
     "points": "1",
     "solution": false
    }
   },
   "outputs": [
    {
     "name": "stdout",
     "output_type": "stream",
     "text": [
      "SUCCESS: translate_codon passed all tests!\n"
     ]
    }
   ],
   "source": [
    "# tests for function codons\n",
    "assert codons(\"ACGCCUGGG\") == [\"ACG\", \"CCU\", \"GGG\"], \"Failed on input 'ACGCCUGGG'\"\n",
    "assert codons(\"UUU\") == [\"UUU\"], \"Failed on input 'UUU'\"\n",
    "assert codons(\"\") == [], \"Failed on empty string\"\n",
    "print(\"SUCCESS: translate_codon passed all tests!\")"
   ]
  },
  {
   "cell_type": "markdown",
   "metadata": {
    "nbgrader": {
     "grade": false,
     "locked": true,
     "solution": false
    }
   },
   "source": [
    "## PROBLEM 4 - RNA fragment translation (1 POINT)"
   ]
  },
  {
   "cell_type": "markdown",
   "metadata": {
    "nbgrader": {
     "grade": false,
     "locked": true,
     "solution": false
    }
   },
   "source": [
    "Next let us write a function that translates all codons of a string representing an RNA fragment, where we again assume that the first three bases of the RNA correspond to a codon and that the length of RNA is a multiple of three. At this point, we will not require that the first codon is the start codon and that the last codon is a stop codon."
   ]
  },
  {
   "cell_type": "markdown",
   "metadata": {
    "nbgrader": {
     "grade": false,
     "locked": true,
     "solution": false
    }
   },
   "source": [
    "As in the previous in-class activities, you will likely find the `join` method of the empty string convenient for concatenating all of the strings in a list together.  For example,"
   ]
  },
  {
   "cell_type": "code",
   "execution_count": 11,
   "metadata": {
    "nbgrader": {
     "grade": false,
     "locked": true,
     "solution": false
    }
   },
   "outputs": [
    {
     "data": {
      "text/plain": [
       "'ACGT'"
      ]
     },
     "execution_count": 11,
     "metadata": {},
     "output_type": "execute_result"
    }
   ],
   "source": [
    "bases = [\"A\", \"C\", \"G\", \"T\"]\n",
    "''.join(bases)"
   ]
  },
  {
   "cell_type": "code",
   "execution_count": 12,
   "metadata": {
    "collapsed": true
   },
   "outputs": [],
   "source": [
    "def translate_rna_fragment(rna):\n",
    "#\n",
    "# YOUR CODE HERE\n",
    "    amino_acids = []\n",
    "    for codon in codons(rna):\n",
    "        aa = translate_codon(codon)\n",
    "        if aa is \"*\": break\n",
    "        amino_acids.append(aa)\n",
    "    return ''.join(amino_acids)\n",
    "#\n",
    "# print(translate_rna_fragment(\"AGGCUA\"))\n",
    "# rna = \"ACGUUU\"\n",
    "# codonsvar = codons(rna)\n",
    "# translate_codonvar = [translate_codon(codon) for codon in codonsvar]\n",
    "# print(rna)\n",
    "# print(codonsvar)\n",
    "# print(translate_codonvar)"
   ]
  },
  {
   "cell_type": "code",
   "execution_count": 13,
   "metadata": {
    "nbgrader": {
     "grade": true,
     "grade_id": "translate_rna_fragment",
     "locked": true,
     "points": "1",
     "solution": false
    }
   },
   "outputs": [
    {
     "name": "stdout",
     "output_type": "stream",
     "text": [
      "SUCCESS: translate_codon passed all tests!\n"
     ]
    }
   ],
   "source": [
    "# tests for translate_rna_fragment\n",
    "assert translate_rna_fragment(\"UUUGCGACUUAU\") == \"FAUY\", \"Failed on input 'UUUGCGACUUAU'\"\n",
    "assert translate_rna_fragment(\"ACG\") == \"U\", \"Failed on input 'UGA'\"\n",
    "assert translate_rna_fragment(\"\") == \"\", \"Failed on the empty string\"\n",
    "print(\"SUCCESS: translate_codon passed all tests!\")"
   ]
  },
  {
   "cell_type": "markdown",
   "metadata": {
    "collapsed": true,
    "nbgrader": {
     "grade": false,
     "locked": true,
     "solution": false
    }
   },
   "source": [
    "## PROBLEM 5 - RNA translation (1 POINT)"
   ]
  },
  {
   "cell_type": "markdown",
   "metadata": {
    "nbgrader": {
     "grade": false,
     "locked": true,
     "solution": false
    }
   },
   "source": [
    "In this problem we step up the complexity and perform RNA translation of an entire RNA molecule.  Recall that RNA translation of a full RNA molecules involves:\n",
    "1. Scanning for the first occurrence of a start codon (\"AUG\")\n",
    "2. Translation of the start codon and successive codons in the same reading frame\n",
    "3. Termination of translation when a stop codon is reached\n",
    "\n",
    "You may assume that the RNA molecule contains a start codon as well as a downstream, in-frame, stop codon."
   ]
  },
  {
   "cell_type": "code",
   "execution_count": 14,
   "metadata": {
    "collapsed": true
   },
   "outputs": [],
   "source": [
    "def translate_rna(rna):\n",
    "#\n",
    "# YOUR CODE HERE\n",
    "    start_index = rna.find(\"AUG\")\n",
    "    return translate_rna_fragment(rna[start_index:])\n",
    "#\n"
   ]
  },
  {
   "cell_type": "code",
   "execution_count": 15,
   "metadata": {
    "nbgrader": {
     "grade": true,
     "grade_id": "translate_rna",
     "locked": true,
     "points": "1",
     "solution": false
    }
   },
   "outputs": [
    {
     "name": "stdout",
     "output_type": "stream",
     "text": [
      "SUCCESS: translate_rna passed all tests!\n"
     ]
    }
   ],
   "source": [
    "# tests for translate_rna\n",
    "assert translate_rna(\"AUGACUUAUUAG\") == \"MUY\", \"Failed on input 'AUGACUUAUUAG'\"\n",
    "assert translate_rna(\"AAUGACUUAUUAG\") == \"MUY\", \"Failed on input 'AAUGACUUAUUAG'\"\n",
    "assert translate_rna(\"AUGACUUAUUAGCT\") == \"MUY\", \"Failed on input 'AUGACUUAUUAGCT'\"\n",
    "assert translate_rna(\"AAUGACUUAUUAGCT\") == \"MUY\", \"Failed on input 'AAUGACUUAUUAGCT'\"\n",
    "print(\"SUCCESS: translate_rna passed all tests!\")"
   ]
  },
  {
   "cell_type": "markdown",
   "metadata": {
    "nbgrader": {
     "grade": false,
     "locked": true,
     "solution": false
    }
   },
   "source": [
    "## PROBLEM 6 - Consequences of the deltaF508 mutation in CFTR (2 POINTS)\n",
    "\n",
    "We will now revisit the CFTR gene fragment that we saw in the last in-class activities and examine how the deltaF508 mutation impacts the resulting amino acid sequence of the encoded protein.  Below is again the sequence of the CFTR gene fragment."
   ]
  },
  {
   "cell_type": "code",
   "execution_count": 16,
   "metadata": {
    "nbgrader": {
     "grade": false,
     "locked": true,
     "solution": false
    }
   },
   "outputs": [
    {
     "name": "stdout",
     "output_type": "stream",
     "text": [
      "ACTTCACTTCTAATGGTGATTATGGGAGAACTGGAGCCTTCAGAGGGTAAAATTAAGCACAGTGGAAGAATTTCATTCTGTTCTCAGTTTTCCTGGATTATGCCTGGCACCATTAAAGAAAATATCATCTTTGGTGTTTCCTATGATGAATATAGATACAGAAGCGTCATCAAAGCATGCCAACTAGAAGAG\n"
     ]
    }
   ],
   "source": [
    "cftr_gene_fragment = (\"ACTTCACTTCTAATGGTGATTATGGGAGAACTGGAGCCTTCAGAGGGTAA\"\n",
    "                      \"AATTAAGCACAGTGGAAGAATTTCATTCTGTTCTCAGTTTTCCTGGATTA\"\n",
    "                      \"TGCCTGGCACCATTAAAGAAAATATCATCTTTGGTGTTTCCTATGATGAA\"\n",
    "                      \"TATAGATACAGAAGCGTCATCAAAGCATGCCAACTAGAAGAG\")\n",
    "print(cftr_gene_fragment)"
   ]
  },
  {
   "cell_type": "markdown",
   "metadata": {
    "nbgrader": {
     "grade": false,
     "locked": true,
     "solution": false
    }
   },
   "source": [
    "And here is the sequence of the mutated CFTR gene fragment, which has bases 129, 130, and 131 (1-based coordinates) removed."
   ]
  },
  {
   "cell_type": "code",
   "execution_count": 17,
   "metadata": {
    "nbgrader": {
     "grade": false,
     "locked": true,
     "solution": false
    }
   },
   "outputs": [
    {
     "name": "stdout",
     "output_type": "stream",
     "text": [
      "ACTTCACTTCTAATGGTGATTATGGGAGAACTGGAGCCTTCAGAGGGTAAAATTAAGCACAGTGGAAGAATTTCATTCTGTTCTCAGTTTTCCTGGATTATGCCTGGCACCATTAAAGAAAATATCATTGGTGTTTCCTATGATGAATATAGATACAGAAGCGTCATCAAAGCATGCCAACTAGAAGAG\n"
     ]
    }
   ],
   "source": [
    "deltaf508_fragment = cftr_gene_fragment[:128] + cftr_gene_fragment[131:]\n",
    "print(deltaf508_fragment)"
   ]
  },
  {
   "cell_type": "markdown",
   "metadata": {
    "nbgrader": {
     "grade": false,
     "locked": true,
     "solution": false
    }
   },
   "source": [
    "Recall that the removed bases were"
   ]
  },
  {
   "cell_type": "code",
   "execution_count": 18,
   "metadata": {
    "nbgrader": {
     "grade": false,
     "locked": true,
     "solution": false
    }
   },
   "outputs": [
    {
     "name": "stdout",
     "output_type": "stream",
     "text": [
      "CTT\n"
     ]
    }
   ],
   "source": [
    "print(cftr_gene_fragment[128:131])"
   ]
  },
  {
   "cell_type": "markdown",
   "metadata": {
    "nbgrader": {
     "grade": false,
     "locked": true,
     "solution": false
    }
   },
   "source": [
    "Using your translation function and considering the coordinates of the deltaF508 mutation, determine\n",
    "1. how many codons of the non-mutant fragment overlap with this deletion\n",
    "2. which single amino acid is effectively deleted from the resulting mutant RNA fragment\n",
    "\n",
    "Note that this CFTR sequence is only a fragment (substring) of the entire CFTR gene and so will not begin with a start codon or end with a stop codon.  You will also need to know that first three bases of the fragment are a codon.\n",
    "\n",
    "Answer the above two questions by assigning your answers to the variables in the code below."
   ]
  },
  {
   "cell_type": "code",
   "execution_count": 28,
   "metadata": {},
   "outputs": [
    {
     "name": "stdout",
     "output_type": "stream",
     "text": [
      "USLLMVIMGELEPSEGKIKHSGRISFCSQFSWIMPGUIKENIIFGVSYDEYRYRSVIKACQLEE\n",
      "USLLMVIMGELEPSEGKIKHSGRISFCSQFSWIMPGUIKENIIGVSYDEYRYRSVIKACQLEE\n",
      "43\n",
      "1\n"
     ]
    }
   ],
   "source": [
    "# Assign to the variable 'num_codons_overlapping_with_deletion' an integer\n",
    "#\n",
    "# YOUR CODE HERE\n",
    "cftr_gene_fragment_RNA = transcribe(cftr_gene_fragment)\n",
    "deltaf508_fragment_RNA = transcribe(deltaf508_fragment)\n",
    "cftr_polypeptide = translate_rna_fragment(cftr_gene_fragment_RNA)\n",
    "deltaf508_polypeptide = translate_rna_fragment(deltaf508_fragment_RNA)\n",
    "print(cftr_polypeptide)\n",
    "print(deltaf508_polypeptide)\n",
    "\n",
    "# print((cftr_gene_fragment_codons))\n",
    "common = 0\n",
    "for i in range(len(deltaf508_polypeptide)):\n",
    "    str1 = deltaf508_polypeptide[i]\n",
    "    str2 = cftr_polypeptide[i]\n",
    "    #print(str1,str2,str1 == str2)\n",
    "    if str1 == str2:\n",
    "        common = common + 1\n",
    "    else: break\n",
    "    \n",
    "num_codons_overlapping_with_deletion = common\n",
    "print(common)\n",
    "\n",
    "num_codons_overlapping_with_deletion = 2\n",
    "print(num_codons_overlapping_with_deletion)\n",
    "\n",
    "#\n",
    "# Assign to the variable 'amino_acid_deleted' a single character string\n",
    "#\n",
    "# YOUR CODE HERE\n",
    "amino_acid_deleted = cftr_polypeptide[common]\n",
    "# print(amino_acid_deleted)\n",
    "# wild_cut = cftr_gene_fragment_codons[:len(deltaf508_fragment_codons)]\n",
    "# for a,b in enumerate(zip(wild_cut, deltaf508_fragment_codons)):\n",
    "#     print(a+1,b)\n",
    "#\n"
   ]
  },
  {
   "cell_type": "code",
   "execution_count": 25,
   "metadata": {
    "collapsed": true,
    "nbgrader": {
     "grade": true,
     "grade_id": "deltaf508_num_codons",
     "locked": true,
     "points": "1",
     "solution": false
    }
   },
   "outputs": [],
   "source": [
    "# test for num_codon_overlapping_with_deletion\n",
    "assert isinstance(num_codons_overlapping_with_deletion, int), \"num_codons_overlapping_with_deletion is not an integer\"\n",
    "#\n",
    "# AUTOGRADER TEST - DO NOT REMOVE\n",
    "#\n"
   ]
  },
  {
   "cell_type": "code",
   "execution_count": 26,
   "metadata": {
    "collapsed": true,
    "nbgrader": {
     "grade": true,
     "grade_id": "deltaf508_amino_acid",
     "locked": true,
     "points": "1",
     "solution": false
    }
   },
   "outputs": [],
   "source": [
    "# test for amino_acid_deleted\n",
    "assert isinstance(amino_acid_deleted, str), \"amino_acid_deleted is not a string\"\n",
    "#\n",
    "# AUTOGRADER TEST - DO NOT REMOVE\n",
    "#\n"
   ]
  },
  {
   "cell_type": "markdown",
   "metadata": {
    "nbgrader": {
     "grade": false,
     "locked": true,
     "solution": false
    }
   },
   "source": [
    "## Submitting your notebook"
   ]
  },
  {
   "cell_type": "markdown",
   "metadata": {
    "nbgrader": {
     "grade": false,
     "locked": true,
     "solution": false
    }
   },
   "source": [
    "Congratulations, you have reached the end of this notebook!  To submit your work, press the big blue \"Submit\" button at the top of this web page.  You may submit as many times as you wish and your final grade will be based on your most recent submission.  After you submit, a grade report will become available telling you how many points you received on each problem in the notebook."
   ]
  },
  {
   "cell_type": "code",
   "execution_count": null,
   "metadata": {
    "collapsed": true
   },
   "outputs": [],
   "source": []
  },
  {
   "cell_type": "code",
   "execution_count": null,
   "metadata": {
    "collapsed": true
   },
   "outputs": [],
   "source": []
  }
 ],
 "metadata": {
  "kernelspec": {
   "display_name": "Python 3",
   "language": "python",
   "name": "python3"
  },
  "language_info": {
   "codemirror_mode": {
    "name": "ipython",
    "version": 3
   },
   "file_extension": ".py",
   "mimetype": "text/x-python",
   "name": "python",
   "nbconvert_exporter": "python",
   "pygments_lexer": "ipython3",
   "version": "3.5.2"
  }
 },
 "nbformat": 4,
 "nbformat_minor": 2
}
