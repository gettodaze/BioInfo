{
 "cells": [
  {
   "cell_type": "markdown",
   "metadata": {
    "nbgrader": {
     "grade": false,
     "locked": true,
     "solution": false
    }
   },
   "source": [
    "# Day 3 (9/12) in-class notebook\n",
    "\n",
    "The objectives of this notebook are to practice\n",
    "* the concept of gene regulatory networks\n",
    "* creating and using Python modules\n",
    "* reading input from files\n",
    "* calling functions on lists of arguments using unpacking"
   ]
  },
  {
   "cell_type": "markdown",
   "metadata": {
    "nbgrader": {
     "grade": false,
     "locked": true,
     "solution": false
    }
   },
   "source": [
    "# The lac operon gene regulatory network\n",
    "In this notebook, we will practice with very simple modeling of the lac operon gene regulatory network that was described in lecture.  \n",
    "\n",
    "We will add one more component to this network, which is the *CAP* protein.  In an environment with low levels of glucose the CAP protein binds to the regulatory region for the lac operon and increases transcription of the lac operon, but only when *lacI* is not bound to the regulatory region.  This allows the cell to try to make up for the lack of glucose by increasing its metabolism of lactose instead.\n",
    "\n",
    "The entire network, along with the deterministic functions/circuits for each downstream variable, is defined by the figure below.  The `lactose`, `lacI`, `glucose`, and `CAP` input variables take the value `True` when they are present and the value `False` when they are absent.  The `lacI_bound` and `CAP_bound` variables are also boolean valued and depend on a subset of the input variables.  The `lacZ` variable represents the transcription level of the lac operon, and can take one of three values: \"absent\", \"low\", and \"high.\""
   ]
  },
  {
   "cell_type": "markdown",
   "metadata": {
    "nbgrader": {
     "grade": false,
     "locked": true,
     "solution": false
    }
   },
   "source": [
    "![Lac circuit](day3_network.png)"
   ]
  },
  {
   "cell_type": "markdown",
   "metadata": {
    "nbgrader": {
     "grade": false,
     "locked": true,
     "solution": false
    }
   },
   "source": [
    "We will define this network in Python using a series of very simple functions, which can then be composed."
   ]
  },
  {
   "cell_type": "markdown",
   "metadata": {
    "nbgrader": {
     "grade": false,
     "locked": true,
     "solution": false
    }
   },
   "source": [
    "## PROBLEM 1 - lacI_bound (1 POINT)\n",
    "Write a function that specifies the lacI-bound circuit, as defined in the figure above.  This should be a simple one-liner that uses a boolean expression."
   ]
  },
  {
   "cell_type": "code",
   "execution_count": 38,
   "metadata": {
    "collapsed": true
   },
   "outputs": [],
   "source": [
    "def lacI_bound(lactose, lacI):\n",
    "#\n",
    "# YOUR CODE HERE\n",
    "    return lacI and not lactose\n",
    "#\n"
   ]
  },
  {
   "cell_type": "code",
   "execution_count": 39,
   "metadata": {
    "nbgrader": {
     "grade": true,
     "grade_id": "lacI_bound",
     "locked": true,
     "points": "1",
     "solution": false
    }
   },
   "outputs": [
    {
     "name": "stdout",
     "output_type": "stream",
     "text": [
      "SUCCESS: lacI_bound passed all tests!\n"
     ]
    }
   ],
   "source": [
    "# tests for function lacI_bound\n",
    "assert lacI_bound(False, False) == False, \"Failed on input False, False\"\n",
    "assert lacI_bound(False, True) == True, \"Failed on input False, True\"\n",
    "assert lacI_bound(True, False) == False, \"Failed on input True, False\"\n",
    "assert lacI_bound(True, True) == False, \"Failed on input True, True\"\n",
    "print(\"SUCCESS: lacI_bound passed all tests!\")"
   ]
  },
  {
   "cell_type": "markdown",
   "metadata": {
    "nbgrader": {
     "grade": false,
     "locked": true,
     "solution": false
    }
   },
   "source": [
    "## PROBLEM 2 - CAP_bound (1 POINT)\n",
    "Write a function that specifies the CAP-bound circuit, as defined in the figure above.  This should also be a simple one-liner that uses a boolean expression."
   ]
  },
  {
   "cell_type": "code",
   "execution_count": 40,
   "metadata": {
    "collapsed": true
   },
   "outputs": [],
   "source": [
    "def CAP_bound(glucose, CAP):\n",
    "#\n",
    "# YOUR CODE HERE\n",
    "    return CAP and not glucose\n",
    "#\n"
   ]
  },
  {
   "cell_type": "code",
   "execution_count": 41,
   "metadata": {
    "nbgrader": {
     "grade": true,
     "grade_id": "CAP_bound",
     "locked": true,
     "points": "1",
     "solution": false
    }
   },
   "outputs": [
    {
     "name": "stdout",
     "output_type": "stream",
     "text": [
      "SUCCESS: CAP_bound passed all tests!\n"
     ]
    }
   ],
   "source": [
    "# tests for function CAP_bound\n",
    "assert CAP_bound(False, False) == False, \"Failed on input False, False\"\n",
    "assert CAP_bound(False, True) == True, \"Failed on input False, True\"\n",
    "assert CAP_bound(True, False) == False, \"Failed on input True, False\"\n",
    "assert CAP_bound(True, True) == False, \"Failed on input True, True\"\n",
    "print(\"SUCCESS: CAP_bound passed all tests!\")"
   ]
  },
  {
   "cell_type": "markdown",
   "metadata": {
    "nbgrader": {
     "grade": false,
     "locked": true,
     "solution": false
    }
   },
   "source": [
    "## PROBLEM 3 - lacZ (1 POINT)\n",
    "Write a function that specifies the lacZ circuit, as defined in the figure above."
   ]
  },
  {
   "cell_type": "code",
   "execution_count": 42,
   "metadata": {
    "collapsed": true,
    "nbgrader": {
     "grade": false,
     "locked": false,
     "solution": false
    }
   },
   "outputs": [],
   "source": [
    "def lacZ(is_lacI_bound, is_CAP_bound):\n",
    "#\n",
    "# YOUR CODE HERE\n",
    "    if is_lacI_bound: return \"absent\"\n",
    "    elif is_CAP_bound: return \"high\"\n",
    "    else: return \"low\"\n",
    "#\n"
   ]
  },
  {
   "cell_type": "code",
   "execution_count": 43,
   "metadata": {
    "nbgrader": {
     "grade": true,
     "grade_id": "lacZ",
     "locked": true,
     "points": "1",
     "solution": false
    }
   },
   "outputs": [
    {
     "name": "stdout",
     "output_type": "stream",
     "text": [
      "SUCCESS: lacZ passed all tests!\n"
     ]
    }
   ],
   "source": [
    "# tests for function lacZ\n",
    "assert lacZ(False, False) == \"low\", \"Failed on input False, False\"\n",
    "assert lacZ(False, True) == \"high\", \"Failed on input False, True\"\n",
    "assert lacZ(True, False) == \"absent\", \"Failed on input True, False\"\n",
    "assert lacZ(True, True) == \"absent\", \"Failed on input True, True\"\n",
    "print(\"SUCCESS: lacZ passed all tests!\")"
   ]
  },
  {
   "cell_type": "markdown",
   "metadata": {
    "nbgrader": {
     "grade": false,
     "locked": true,
     "solution": false
    }
   },
   "source": [
    "## PROBLEM 4 - lacZ full circuit (1 POINT)\n",
    "Finally, let us write a function that gives the value of lacZ depending on the input variables `lactose`, `lacI`, `glucose`, and `CAP`.  Use composition of the functions above to accomplish this in a simple one-liner."
   ]
  },
  {
   "cell_type": "code",
   "execution_count": 44,
   "metadata": {
    "collapsed": true
   },
   "outputs": [],
   "source": [
    "def lacZ_full_circuit(lactose, lacI, glucose, CAP):\n",
    "#\n",
    "# YOUR CODE HERE\n",
    "    is_lacI_bound = lacI_bound(lactose, lacI)\n",
    "    is_CAP_bound = CAP_bound(glucose, CAP)\n",
    "    return lacZ(is_lacI_bound, is_CAP_bound)\n",
    "#\n"
   ]
  },
  {
   "cell_type": "code",
   "execution_count": 45,
   "metadata": {
    "nbgrader": {
     "grade": true,
     "grade_id": "lacZ_full_circuit",
     "locked": true,
     "points": "1",
     "solution": false
    }
   },
   "outputs": [
    {
     "name": "stdout",
     "output_type": "stream",
     "text": [
      "SUCCESS: lacZ_full_circuit passed all tests!\n"
     ]
    }
   ],
   "source": [
    "# tests for function lacZ_full_circuit\n",
    "# note that these are only a subset of the possible inputs\n",
    "assert lacZ_full_circuit(False, False, False, False) == \"low\", \"Failed on input False, False, False, False\"\n",
    "assert lacZ_full_circuit(False, False, False, True) == \"high\", \"Failed on input False, False, False, True\"\n",
    "assert lacZ_full_circuit(False, True, False, True) == \"absent\", \"Failed on input False, True, False, True\"\n",
    "assert lacZ_full_circuit(False, True, True, True) == \"absent\", \"Failed on input False, True, True, True\"\n",
    "print(\"SUCCESS: lacZ_full_circuit passed all tests!\")"
   ]
  },
  {
   "cell_type": "markdown",
   "metadata": {
    "nbgrader": {
     "grade": false,
     "locked": true,
     "solution": false
    }
   },
   "source": [
    "## PROBLEM 5 - creating and using a module (1 POINT)\n",
    "We will now practice with creating a Python module.  Modules make it easy to reuse your code and keep related functions, variables, and classes in a separate namespace.\n",
    "\n",
    "For this problem, you are to do the following:\n",
    "1. Create a new file `lac_network.py` in your workspace by clicking on the jupyter icon above, clicking on the \"new\" drop down menu at the right of the interface, and selection \"text file\".\n",
    "2. Copy the Python code for each of your lac circuit functions that you have written above into the `lac_network.py` file.\n",
    "3. Import your `lac_network` module within this notebook and test that you can call functions defined within the module."
   ]
  },
  {
   "cell_type": "code",
   "execution_count": 46,
   "metadata": {
    "nbgrader": {
     "grade": true,
     "grade_id": "lac_network_module",
     "locked": true,
     "points": "1",
     "solution": false
    }
   },
   "outputs": [
    {
     "name": "stdout",
     "output_type": "stream",
     "text": [
      "SUCCESS: lacZ_network module passed all tests!\n"
     ]
    }
   ],
   "source": [
    "# tests for the lac_network module\n",
    "import lac_network\n",
    "assert lac_network.lacZ_full_circuit(False, False, False, False) == \"low\", \"lac_network.lacZ_full_circuit failed\"\n",
    "assert lac_network.lacI_bound(False, False) == False, \"lac_network.lacI_bound failed\"\n",
    "assert lac_network.CAP_bound(False, False) == False, \"lac_network.CAP_bound failed\"\n",
    "assert lac_network.lacZ(False, False) == \"low\", \"lac_network.lacZ failed\"\n",
    "print(\"SUCCESS: lacZ_network module passed all tests!\")"
   ]
  },
  {
   "cell_type": "markdown",
   "metadata": {
    "nbgrader": {
     "grade": false,
     "locked": true,
     "solution": false
    }
   },
   "source": [
    "## PROBLEM 6 - reading from a file (1 POINT)\n",
    "We will now practice with reading data from a text file.  In particular, we will read a file that contains some input values for the `lacZ_full_circuit`, with a different set of input values on each line.  The input values will be specified for the variables `lactose`, `lacI`, `glucose`, and `CAP`, and in that order.  On each line, the values will be separated by one or more whitespace characters.\n",
    "\n",
    "Write a function that takes as input the name of a file containing input values for the `lacZ_full_circuit` function and outputs a list of lists of the input values.  The first tuple in the list should correspond to the input values from the first line of the file, and so on for the other lines in the file.\n",
    "\n",
    "You will likely find the following function, which converts the strings \"True\" and \"False\" to Python boolean values, of use.\n",
    "\n",
    "You will also likely find the `split` method of string functions helpful."
   ]
  },
  {
   "cell_type": "code",
   "execution_count": 47,
   "metadata": {
    "collapsed": true,
    "nbgrader": {
     "grade": false,
     "locked": true,
     "solution": false
    }
   },
   "outputs": [],
   "source": [
    "def str_to_bool(s):\n",
    "    if s == 'True':\n",
    "         return True\n",
    "    elif s == 'False':\n",
    "         return False\n",
    "    else:\n",
    "         raise ValueError(\"Input is neither 'True' nor 'False': \" + s)"
   ]
  },
  {
   "cell_type": "code",
   "execution_count": 48,
   "metadata": {
    "collapsed": true
   },
   "outputs": [],
   "source": [
    "def read_lacZ_full_circuit_inputs(filename):\n",
    "    #\n",
    "    # YOUR CODE HERE\n",
    "    lacZ_full_circuit_inputs = []\n",
    "    with open(filename, 'r') as f:\n",
    "        for line in f:\n",
    "            line = line.strip()\n",
    "            parameters_str = line.split(\" \")\n",
    "            print(parameters_str)\n",
    "            parameters_bool = [str_to_bool(parameter) for parameter in parameters_str]\n",
    "            lacZ_full_circuit_inputs.append(parameters_bool)\n",
    "    return lacZ_full_circuit_inputs\n",
    "    #\n"
   ]
  },
  {
   "cell_type": "code",
   "execution_count": 49,
   "metadata": {
    "nbgrader": {
     "grade": true,
     "grade_id": "read_lacZ_full_circuit_inputs",
     "locked": true,
     "points": "1",
     "solution": false
    }
   },
   "outputs": [
    {
     "name": "stdout",
     "output_type": "stream",
     "text": [
      "['False', 'False', 'False', 'False']\n",
      "['False', 'False', 'False', 'True']\n",
      "['False', 'False', 'True', 'False']\n",
      "['False', 'False', 'True', 'True']\n",
      "SUCCESS: read_lacZ_full_circuit_inputs passed all tests!\n"
     ]
    }
   ],
   "source": [
    "# tests for read_lacZ_full_circuit_inputs\n",
    "assert read_lacZ_full_circuit_inputs(\"lac_network_inputs.txt\") == [[False, False, False, False],\n",
    "                                                                   [False, False, False, True],\n",
    "                                                                   [False, False, True, False],\n",
    "                                                                   [False, False, True, True]]\n",
    "print(\"SUCCESS: read_lacZ_full_circuit_inputs passed all tests!\")"
   ]
  },
  {
   "cell_type": "markdown",
   "metadata": {
    "nbgrader": {
     "grade": false,
     "locked": true,
     "solution": false
    }
   },
   "source": [
    "## PROBLEM 7 - calling functions with arguments in a list (1 POINT)\n",
    "Finally, we will practice calling a function that takes multiple arguments when the arguments are packed within a single list or tuple.  For this we will use Python's [unpacking](https://docs.python.org/3/tutorial/controlflow.html#unpacking-argument-lists) syntax.\n",
    "\n",
    "For example, suppose we have a number of words in a list, and we want to use the print statement to print all of the words on a single line, separated by a single space character.  We can use unpacking to make this easy."
   ]
  },
  {
   "cell_type": "code",
   "execution_count": 50,
   "metadata": {
    "collapsed": true,
    "nbgrader": {
     "grade": false,
     "locked": true,
     "solution": false
    }
   },
   "outputs": [],
   "source": [
    "some_words = [\"Here\", \"are\", \"some\", \"words\"]"
   ]
  },
  {
   "cell_type": "code",
   "execution_count": 51,
   "metadata": {
    "nbgrader": {
     "grade": false,
     "locked": true,
     "solution": false
    }
   },
   "outputs": [
    {
     "name": "stdout",
     "output_type": "stream",
     "text": [
      "['Here', 'are', 'some', 'words']\n"
     ]
    }
   ],
   "source": [
    "print(some_words)"
   ]
  },
  {
   "cell_type": "code",
   "execution_count": 52,
   "metadata": {
    "nbgrader": {
     "grade": false,
     "locked": true,
     "solution": false
    }
   },
   "outputs": [
    {
     "name": "stdout",
     "output_type": "stream",
     "text": [
      "Here are some words\n"
     ]
    }
   ],
   "source": [
    "print(*some_words)"
   ]
  },
  {
   "cell_type": "markdown",
   "metadata": {
    "nbgrader": {
     "grade": false,
     "locked": true,
     "solution": false
    }
   },
   "source": [
    "Notice the difference in the output from the two print statements above.  In the first statement, `print` is given a single argument, a list of strings.  In the second statement, `print` is given multiple arguments, each an element from the list `some_words`."
   ]
  },
  {
   "cell_type": "markdown",
   "metadata": {
    "nbgrader": {
     "grade": false,
     "locked": true,
     "solution": false
    }
   },
   "source": [
    "Use this argument unpacking technique to write a function that calls `lacZ_full_circuit` on each of a list of input value lists, such as is returned by the `read_lacZ_full_circuit_inputs` function you defined in the previous problem.  The function should return a list of the corresponding outputs from the `lacZ_full_circuit` function."
   ]
  },
  {
   "cell_type": "code",
   "execution_count": 53,
   "metadata": {
    "collapsed": true
   },
   "outputs": [],
   "source": [
    "def call_lacZ_full_circuit_on_list(inputs_list):\n",
    "    #\n",
    "    # YOUR CODE HERE\n",
    "    output = []\n",
    "    for single_input in inputs_list:\n",
    "        output.append(lacZ_full_circuit(*single_input))\n",
    "    return output\n",
    "        \n",
    "    #\n"
   ]
  },
  {
   "cell_type": "code",
   "execution_count": 54,
   "metadata": {
    "nbgrader": {
     "grade": true,
     "grade_id": "call_lacZ_full_circuit_on_list",
     "locked": true,
     "points": "1",
     "solution": false
    }
   },
   "outputs": [
    {
     "name": "stdout",
     "output_type": "stream",
     "text": [
      "SUCCESS: call_lacZ_full_circuit_on_list passed all tests!\n"
     ]
    }
   ],
   "source": [
    "# tests for call_lacZ_full_circuit_on_list\n",
    "test1_list = [[False, False, False, False],\n",
    "              [False, False, False, True],\n",
    "              [False, False, True, False],\n",
    "              [False, False, True, True]]\n",
    "assert call_lacZ_full_circuit_on_list(test1_list) == ['low', 'high', 'low', 'low'], \"Failed on test1_list\"\n",
    "test2_list = [[False, False, False, True]]\n",
    "assert call_lacZ_full_circuit_on_list(test2_list) == ['high'], \"Failed on test2_list\"\n",
    "print(\"SUCCESS: call_lacZ_full_circuit_on_list passed all tests!\")"
   ]
  },
  {
   "cell_type": "markdown",
   "metadata": {
    "nbgrader": {
     "grade": false,
     "locked": true,
     "solution": false
    }
   },
   "source": [
    "## Submitting your notebook"
   ]
  },
  {
   "cell_type": "markdown",
   "metadata": {
    "nbgrader": {
     "grade": false,
     "locked": true,
     "solution": false
    }
   },
   "source": [
    "Congratulations, you have reached the end of this notebook!  To submit your work, press the big blue \"Submit\" button at the top of this web page.  You may submit as many times as you wish and your final grade will be based on your most recent submission.  After you submit, a grade report will become available telling you how many points you received on each problem in the notebook."
   ]
  },
  {
   "cell_type": "code",
   "execution_count": null,
   "metadata": {
    "collapsed": true
   },
   "outputs": [],
   "source": []
  }
 ],
 "metadata": {
  "kernelspec": {
   "display_name": "Python 3",
   "language": "python",
   "name": "python3"
  },
  "language_info": {
   "codemirror_mode": {
    "name": "ipython",
    "version": 3
   },
   "file_extension": ".py",
   "mimetype": "text/x-python",
   "name": "python",
   "nbconvert_exporter": "python",
   "pygments_lexer": "ipython3",
   "version": "3.5.2"
  }
 },
 "nbformat": 4,
 "nbformat_minor": 2
}
