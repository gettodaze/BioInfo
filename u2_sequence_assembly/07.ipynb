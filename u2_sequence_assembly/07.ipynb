{
 "cells": [
  {
   "cell_type": "markdown",
   "metadata": {
    "nbgrader": {
     "grade": false,
     "locked": true,
     "solution": false
    }
   },
   "source": [
    "# Day 7 (9/21) in-class notebook\n",
    "\n",
    "The objectives of this notebook are to practice\n",
    "\n",
    "* checking if a graph is Eulerian\n",
    "* finding a cycle in a graph\n",
    "* using multiple inheritance in Python"
   ]
  },
  {
   "cell_type": "markdown",
   "metadata": {
    "nbgrader": {
     "grade": false,
     "locked": true,
     "solution": false
    }
   },
   "source": [
    "In this notebook we will work with graph data structures.  Included with this notebook is a graph module (graph.py), which contains the abstract base class `DirectedGraph` and trivial set implementation, `TrivialSetDirectedGraph`, from the Day 6 notebook.  We will use these graph interfaces and implementations throughout."
   ]
  },
  {
   "cell_type": "code",
   "execution_count": 1,
   "metadata": {
    "collapsed": true,
    "nbgrader": {
     "grade": false,
     "locked": true,
     "solution": false
    }
   },
   "outputs": [],
   "source": [
    "import graph"
   ]
  },
  {
   "cell_type": "markdown",
   "metadata": {
    "nbgrader": {
     "grade": false,
     "locked": true,
     "solution": false
    }
   },
   "source": [
    "### PROBLEM 1: Check if a graph is Eulerian (3 POINTS)\n",
    "First, write a function that takes as input a directed graph (i.e., an object that \"is a\" DirectedGraph), and returns whether the graph is Eulerian or not.  The function should assume that the graph is connected (i.e., there exists a path between every pair of vertices)."
   ]
  },
  {
   "cell_type": "code",
   "execution_count": 2,
   "metadata": {
    "collapsed": true
   },
   "outputs": [],
   "source": [
    "def is_eulerian(g):\n",
    "    \"\"\"Returns True if DirectedGraph g is Eulerian.  Assumes that g is connected.\"\"\"\n",
    "    #\n",
    "    # YOUR CODE HERE\n",
    "    for i in range(g.num_vertices()):\n",
    "        if g.indegree(i) != g.outdegree(i):\n",
    "            return False\n",
    "    else:\n",
    "        return True\n",
    "    #\n"
   ]
  },
  {
   "cell_type": "code",
   "execution_count": 3,
   "metadata": {
    "nbgrader": {
     "grade": true,
     "grade_id": "is_eulerian g1",
     "locked": true,
     "points": "1",
     "solution": false
    }
   },
   "outputs": [
    {
     "name": "stdout",
     "output_type": "stream",
     "text": [
      "SUCCESS: is_eulerian g1 test passed!\n"
     ]
    }
   ],
   "source": [
    "# test for is_eulerian g1\n",
    "g1 = graph.TrivialSetDirectedGraph(4)\n",
    "g1.add_edges([(0, 1), (1, 2), (1, 3), (2, 0), (2, 1), (3, 2)])\n",
    "assert is_eulerian(g1)\n",
    "print(\"SUCCESS: is_eulerian g1 test passed!\")"
   ]
  },
  {
   "cell_type": "code",
   "execution_count": 4,
   "metadata": {
    "nbgrader": {
     "grade": true,
     "grade_id": "is_eulerian g2 and g3",
     "locked": true,
     "points": "1",
     "solution": false
    }
   },
   "outputs": [
    {
     "name": "stdout",
     "output_type": "stream",
     "text": [
      "SUCCESS: is_eulerian g2 & g3 tests passed!\n"
     ]
    }
   ],
   "source": [
    "# test for is_eulerian g2 and g3\n",
    "g2 = graph.TrivialSetDirectedGraph(4)\n",
    "g2.add_edges([(0, 1), (1, 2), (1, 3), (2, 0), (3, 2)])\n",
    "assert not is_eulerian(g2)\n",
    "g3 = graph.TrivialSetDirectedGraph(4)\n",
    "g3.add_edges([(0, 1), (1, 2), (1, 3), (2, 1), (3, 2)])\n",
    "assert not is_eulerian(g3)\n",
    "print(\"SUCCESS: is_eulerian g2 & g3 tests passed!\")"
   ]
  },
  {
   "cell_type": "code",
   "execution_count": 5,
   "metadata": {
    "nbgrader": {
     "grade": true,
     "grade_id": "is_eulerian g4 and g5",
     "locked": true,
     "points": "1",
     "solution": false
    }
   },
   "outputs": [
    {
     "name": "stdout",
     "output_type": "stream",
     "text": [
      "SUCCESS: is_eulerian g4 & g5 tests passed!\n"
     ]
    }
   ],
   "source": [
    "# test for is_eulerian g4 and g5\n",
    "g4 = graph.TrivialSetDirectedGraph(2)\n",
    "g4.add_edges([(0, 0), (0, 1), (1, 1), (1, 0)])\n",
    "g5 = graph.TrivialSetDirectedGraph(1)\n",
    "g5.add_edges([(0, 0)])\n",
    "assert is_eulerian(g4)\n",
    "assert is_eulerian(g5)\n",
    "print(\"SUCCESS: is_eulerian g4 & g5 tests passed!\")"
   ]
  },
  {
   "cell_type": "markdown",
   "metadata": {
    "nbgrader": {
     "grade": false,
     "locked": true,
     "solution": false
    }
   },
   "source": [
    "### PROBLEM 2: Finding a cycle in an Eulerian graph (3 POINTS)\n",
    "Next, write a function that takes as input a Eulerian directed graph and a designated start vertex, and returns a cycle in the graph that starts and ends at the designated vertex and does use any edge more than once.  Note that this does **not** need to be an Eulerian cycle (which would traverse all edges).  Essentially, this function is tracing out the first cycle that would be found during the Eulerian cycle algorithm dicussed in the online lecture.\n",
    "\n",
    "I encourage you to use the simple algorithm described in lecture, which is simply to traverse unused edges until you return to the start vertex.  You may find it useful to use a `set` object to keep track of edges that you have already used."
   ]
  },
  {
   "cell_type": "code",
   "execution_count": 29,
   "metadata": {},
   "outputs": [
    {
     "name": "stdout",
     "output_type": "stream",
     "text": [
      "[1]\n",
      "[1]\n",
      "1\n",
      "[1]\n",
      "[]\n",
      "\n",
      "\n",
      "\n",
      "[]\n",
      "[1, 2, 3, 1]\n",
      "[1, 2, 3, 1]\n"
     ]
    }
   ],
   "source": [
    "a = [1]\n",
    "b = [1,2,3,1]\n",
    "curr_vertex = 1\n",
    "print(a[:])\n",
    "print(a)\n",
    "print(a[0])\n",
    "print(a[:1])\n",
    "print(a[1:])\n",
    "print(\"\\n\\n\")\n",
    "c = a[:a.index(1)]\n",
    "print(c)\n",
    "c.extend(b)\n",
    "print(c)\n",
    "c.extend(a[a.index(1)+1:])\n",
    "print(c)\n"
   ]
  },
  {
   "cell_type": "code",
   "execution_count": 39,
   "metadata": {},
   "outputs": [
    {
     "name": "stdout",
     "output_type": "stream",
     "text": [
      "[0, 1, 2, 1, 3, 2, 0]\n"
     ]
    },
    {
     "data": {
      "text/plain": [
       "[0, 1, 2, 1, 3, 2, 0]"
      ]
     },
     "execution_count": 39,
     "metadata": {},
     "output_type": "execute_result"
    }
   ],
   "source": [
    "from collections import deque\n",
    "def find_cycle_in_eulerian_graph(g, start_vertex):\n",
    "    \"\"\"Returns a cycle in the Eulerian graph starting at the given vertex.\n",
    "    The cycle is returned as a list of vertices with the same start and end vertex.\n",
    "    Assumes that g is Eulerian.\"\"\"\n",
    "    #\n",
    "    # YOUR CODE HERE\n",
    "    path = [start_vertex]\n",
    "    untraversed_edges = [edge for edge in g.edges()]\n",
    "    vertices_with_more_outedges = deque([start_vertex])\n",
    "    while vertices_with_more_outedges:\n",
    "        curr_vertex = vertices_with_more_outedges.pop()\n",
    "        out_edges = [out_edge for out_edge in g.out_edges(curr_vertex) if out_edge in untraversed_edges]\n",
    "        curr_path = [curr_vertex]\n",
    "        while out_edges:\n",
    "            if len(out_edges) > 1:\n",
    "                vertices_with_more_outedges.append(curr_vertex)\n",
    "            traverse = out_edges[0]\n",
    "            untraversed_edges.remove(traverse)\n",
    "            #print(\"Traversing {} from {}\".format(traverse,curr_vertex))\n",
    "            curr_vertex = traverse[1]\n",
    "            curr_path.append(curr_vertex)\n",
    "            out_edges = [out_edge for out_edge in g.out_edges(curr_vertex) if out_edge in untraversed_edges]\n",
    "            #print(\"Stop at {0} | {0}'s out edges {1} | curr_path {2}\".format(curr_vertex, g.out_edges(curr_vertex), curr_path))\n",
    "        new_path = path[:path.index(curr_vertex)]\n",
    "        new_path.extend(curr_path)\n",
    "        new_path.extend(path[path.index(curr_vertex)+1:])\n",
    "        path = new_path\n",
    "    print(path)\n",
    "    return path\n",
    "        \n",
    "            \n",
    "    \n",
    "    \n",
    "    \n",
    "    \n",
    "    \n",
    "    \n",
    "#     def get_a_cycle(untraversed_edges, start_vertex):\n",
    "#         path = []\n",
    "#         while out_edges:\n",
    "#             untraversed_edges = [edge for edge in g.edges()]\n",
    "#             if len(out_edges) > 1:\n",
    "#                 vertices_with_more_outedges.append([curr_vertex])\n",
    "#             traverse = out_edges[0]\n",
    "#             print(\"Traversing {} from {}\".format(traverse,curr_vertex))\n",
    "#             path.append(traverse)\n",
    "#             curr_vertex = traverse[1]\n",
    "#             out_edges = [out_edge for out_edge in g.out_edges(curr_vertex) if out_edge not in path]\n",
    "#             print(\"Stop at {0} | {0}'s out edges {1} | path so far {2}\".format(curr_vertex, g.out_edges(curr_vertex), path))\n",
    "#         return path\n",
    "#     path = []\n",
    "#     untraversed_edges = [edge for edge in g.edges()]\n",
    "#     vertices_with_more_outedges = deque([start_vertex])\n",
    "#     print(vertices_with_more_outedges)\n",
    "#     while vertices_with_more_outedges:\n",
    "#         curr_vertex = vertices_with_more_outedges[0]\n",
    "#         out_edges = [out_edge for out_edge in g.out_edges(curr_vertex) if out_edge not in path]\n",
    "        \n",
    "#         return path\n",
    "#     #\n",
    "\n",
    "g1 = graph.TrivialSetDirectedGraph(4)\n",
    "g1.add_edges([(0, 1), (1, 2), (1, 3), (2, 0), (2, 1), (3, 2)])\n",
    "find_cycle_in_eulerian_graph(g1,0)\n"
   ]
  },
  {
   "cell_type": "code",
   "execution_count": 40,
   "metadata": {
    "nbgrader": {
     "grade": true,
     "grade_id": "find_cycle_in_eulerian_graph g1",
     "locked": true,
     "points": "1",
     "solution": false
    }
   },
   "outputs": [
    {
     "name": "stdout",
     "output_type": "stream",
     "text": [
      "[0, 1, 2, 1, 3, 2, 0]\n",
      "[3, 2, 0, 1, 2, 1, 3]\n",
      "SUCCESS: find_cycle_in_eulerian_graph g1 test passed!\n"
     ]
    }
   ],
   "source": [
    "# test for find_cycle_in_eulerian_graph g1\n",
    "def is_cycle(g, path, vertex):\n",
    "    \"\"\"Returns True if path is a cycle in g that starts and ends with vertex.\"\"\"\n",
    "    # check for cyclical path with given start/end vertex\n",
    "    if len(path) < 2 or path[0] != vertex or path[-1] != vertex:\n",
    "        return False\n",
    "    # check for distinct edges\n",
    "    path_edges = set(zip(path[:-1], path[1:]))    \n",
    "    if len(path_edges) != len(path) - 1:\n",
    "        return False\n",
    "    # check for existence of edges\n",
    "    for i, j in path_edges:\n",
    "        if not g.has_edge(i, j):\n",
    "            return False\n",
    "    return True\n",
    "\n",
    "g1 = graph.TrivialSetDirectedGraph(4)\n",
    "g1.add_edges([(0, 1), (1, 2), (1, 3), (2, 0), (2, 1), (3, 2)])\n",
    "assert is_cycle(g1, find_cycle_in_eulerian_graph(g1, 0), 0)\n",
    "assert is_cycle(g1, find_cycle_in_eulerian_graph(g1, 3), 3)\n",
    "print(\"SUCCESS: find_cycle_in_eulerian_graph g1 test passed!\")"
   ]
  },
  {
   "cell_type": "code",
   "execution_count": 41,
   "metadata": {
    "nbgrader": {
     "grade": true,
     "grade_id": "find_cycle_in_eulerian_graph g4",
     "locked": true,
     "points": "1",
     "solution": false
    }
   },
   "outputs": [
    {
     "name": "stdout",
     "output_type": "stream",
     "text": [
      "[0, 0, 1, 1, 0]\n",
      "[1, 0, 0, 1, 1]\n",
      "SUCCESS: find_cycle_in_eulerian_graph g4 test passed!\n"
     ]
    }
   ],
   "source": [
    "# test for find_cycle_in_eulerian_graph g4\n",
    "g4 = graph.TrivialSetDirectedGraph(2)\n",
    "g4.add_edges([(0, 0), (0, 1), (1, 1), (1, 0)])\n",
    "assert is_cycle(g4, find_cycle_in_eulerian_graph(g4, 0), 0)\n",
    "assert is_cycle(g4, find_cycle_in_eulerian_graph(g4, 1), 1)\n",
    "print(\"SUCCESS: find_cycle_in_eulerian_graph g4 test passed!\")"
   ]
  },
  {
   "cell_type": "code",
   "execution_count": 42,
   "metadata": {
    "nbgrader": {
     "grade": true,
     "grade_id": "find_cycle_in_eulerian_graph g6",
     "locked": true,
     "points": "1",
     "solution": false
    }
   },
   "outputs": [
    {
     "name": "stdout",
     "output_type": "stream",
     "text": [
      "[3, 0, 1, 0, 2, 0, 3, 1, 2, 1, 3, 2, 3]\n",
      "[0, 1, 0, 2, 0, 3, 1, 2, 1, 3, 2, 3, 0]\n",
      "SUCCESS: find_cycle_in_eulerian_graph g6 test passed!\n"
     ]
    }
   ],
   "source": [
    "# test for find_cycle_in_eulerian_graph g6\n",
    "g6 = graph.TrivialSetDirectedGraph(4)\n",
    "g6.add_edges([(0, 1), (0, 2), (0, 3),\n",
    "              (1, 0), (1, 2), (1, 3),\n",
    "              (2, 0), (2, 1), (2, 3),\n",
    "              (3, 0), (3, 1), (3, 2)])\n",
    "assert is_cycle(g6, find_cycle_in_eulerian_graph(g6, 3), 3)\n",
    "assert is_cycle(g6, find_cycle_in_eulerian_graph(g6, 0), 0)\n",
    "print(\"SUCCESS: find_cycle_in_eulerian_graph g6 test passed!\")"
   ]
  },
  {
   "cell_type": "markdown",
   "metadata": {
    "nbgrader": {
     "grade": false,
     "locked": true,
     "solution": false
    }
   },
   "source": [
    "## Adding edge weights and vertex labels to graphs via \"mixin\" classes\n",
    "In the Day 6 notebook, we saw how we could implement a graph data structure via Python classes and use inheritance to provide multiple alternative implementations.  Here, we will see how to easily add other features to graphs with \"mixin\" classes.  For example, we may want to allow edges to have weights and for vertices to have labels (e.g., read strings for overlap graphs)."
   ]
  },
  {
   "cell_type": "markdown",
   "metadata": {
    "nbgrader": {
     "grade": false,
     "locked": true,
     "solution": false
    }
   },
   "source": [
    "Below is a \"mixin\" class `VertexLabeledDirectedGraph`, which allows you to \"mix in\" the feature of vertices having labels, with any particular implementation of a directed graph.  This eliminates the need to make vertex labeled versions of every possible graph implementation ahead of time.  Take a look at how `VertexLabeledDirectedGraph` is implemented."
   ]
  },
  {
   "cell_type": "code",
   "execution_count": 43,
   "metadata": {
    "collapsed": true,
    "nbgrader": {
     "grade": false,
     "locked": true,
     "solution": false
    }
   },
   "outputs": [],
   "source": [
    "class VertexLabeledDirectedGraph(graph.DirectedGraph):\n",
    "    \"\"\"A mixin class that allows for vertices in a directed graph to have labels.\"\"\"\n",
    "    \n",
    "    def __init__(self, num_vertices):\n",
    "        # call the next constructor in Python's Method Resolution Order\n",
    "        super().__init__(num_vertices)\n",
    "        self._vertex_labels = [None] * num_vertices\n",
    "\n",
    "    def set_vertex_label(self, i, label):\n",
    "        \"\"\"Adds a label to vertex i.\"\"\"\n",
    "        self._vertex_labels[i] = label\n",
    "       \n",
    "    def vertex_label(self, i):\n",
    "        \"\"\"Returns the label of vertex i or None if it is not assigned a label\"\"\"\n",
    "        return self._vertex_labels[i]"
   ]
  },
  {
   "cell_type": "markdown",
   "metadata": {
    "nbgrader": {
     "grade": false,
     "locked": true,
     "solution": false
    }
   },
   "source": [
    "Below is how we would use this \"mix in\" class to add vertex labels to the trivial set implementation of directed graphs."
   ]
  },
  {
   "cell_type": "code",
   "execution_count": 44,
   "metadata": {
    "collapsed": true,
    "nbgrader": {
     "grade": false,
     "locked": true,
     "solution": false
    }
   },
   "outputs": [],
   "source": [
    "# To \"mix\", simply inherit from multiple classes!\n",
    "class VertexLabeledTSDirectedGraph(graph.TrivialSetDirectedGraph, VertexLabeledDirectedGraph):\n",
    "    pass"
   ]
  },
  {
   "cell_type": "markdown",
   "metadata": {
    "nbgrader": {
     "grade": false,
     "locked": true,
     "solution": false
    }
   },
   "source": [
    "And below is an example of how this new mixed class could be used."
   ]
  },
  {
   "cell_type": "code",
   "execution_count": 45,
   "metadata": {
    "nbgrader": {
     "grade": false,
     "locked": true,
     "solution": false
    }
   },
   "outputs": [
    {
     "name": "stdout",
     "output_type": "stream",
     "text": [
      "DirectedGraph with 3 vertices and 2 edge(s):\n",
      "[(0, 2), (1, 2)]\n",
      "The label of vertex 0 is 'the first vertex'\n",
      "The label of vertex 1 is None\n",
      "The label of vertex 1 is 'the third vertex'\n"
     ]
    }
   ],
   "source": [
    "g = VertexLabeledTSDirectedGraph(3)\n",
    "g.add_edge(0, 2)\n",
    "g.add_edge(1, 2)\n",
    "g.set_vertex_label(0, \"the first vertex\")\n",
    "g.set_vertex_label(2, \"the third vertex\")\n",
    "print(g)\n",
    "print(\"The label of vertex 0 is\", repr(g.vertex_label(0)))\n",
    "print(\"The label of vertex 1 is\", repr(g.vertex_label(1)))\n",
    "print(\"The label of vertex 1 is\", repr(g.vertex_label(2)))"
   ]
  },
  {
   "cell_type": "markdown",
   "metadata": {
    "nbgrader": {
     "grade": false,
     "locked": true,
     "solution": false
    }
   },
   "source": [
    "### PROBLEM 3: Adding functionality for edge weights via a \"mixin\" class (3 POINTS)\n",
    "Now try your hand at defining another mixin class that allows for DirectedGraphs to have edge weights.  Consider using a `dict` to store the weights of edges and take note of the [`get`](https://docs.python.org/3/library/stdtypes.html#dict.get) method of `dict` objects. "
   ]
  },
  {
   "cell_type": "code",
   "execution_count": 57,
   "metadata": {},
   "outputs": [
    {
     "name": "stdout",
     "output_type": "stream",
     "text": [
      "set()\n",
      "{1}\n",
      "{}\n",
      "{'a': 'hi'}\n",
      "{'a': 'hi', (2, 3): 7}\n"
     ]
    }
   ],
   "source": [
    "a = set()\n",
    "print(a)\n",
    "a.add(1)\n",
    "print(a)\n",
    "b = dict()\n",
    "print(b)\n",
    "b[\"a\"] = \"hi\"\n",
    "print(b)\n",
    "i = 2\n",
    "j = 3\n",
    "weight = 7\n",
    "b[(i,j)] = weight\n",
    "print(b)"
   ]
  },
  {
   "cell_type": "code",
   "execution_count": 61,
   "metadata": {
    "collapsed": true
   },
   "outputs": [],
   "source": [
    "class EdgeWeightedDirectedGraph(graph.DirectedGraph):\n",
    "    \"\"\"A mixin class that allows for edges in a directed graph to have weights.\"\"\"\n",
    "    \n",
    "    def __init__(self, num_vertices):\n",
    "        #\n",
    "        # YOUR CODE HERE\n",
    "        super().__init__(num_vertices)\n",
    "        self._edges = set()\n",
    "        self._edge_weights = dict()\n",
    "        #\n",
    "\n",
    "    def add_weighted_edge(self, i, j, weight):\n",
    "        \"\"\"Adds an edge to the graph with the given weight.\"\"\"        \n",
    "        #\n",
    "        # YOUR CODE HERE\n",
    "        self._edges.add((i,j))\n",
    "        self._edge_weights[(i,j)] = weight\n",
    "        \n",
    "        #\n",
    "       \n",
    "    def edge_weight(self, i, j):\n",
    "        \"\"\"Returns the weight of edge (i, j) or None if it is not assigned a weight\"\"\"\n",
    "        #\n",
    "        # YOUR CODE HERE\n",
    "        return self._edge_weights.get((i,j))\n"
   ]
  },
  {
   "cell_type": "markdown",
   "metadata": {
    "nbgrader": {
     "grade": false,
     "locked": true,
     "solution": false
    }
   },
   "source": [
    "We can then use your class to add edge weight functionality to the trivial set implementation:"
   ]
  },
  {
   "cell_type": "code",
   "execution_count": 62,
   "metadata": {
    "collapsed": true,
    "nbgrader": {
     "grade": false,
     "locked": true,
     "solution": false
    }
   },
   "outputs": [],
   "source": [
    "class EdgeWeightedTSDirectedGraph(graph.TrivialSetDirectedGraph, EdgeWeightedDirectedGraph):\n",
    "    pass"
   ]
  },
  {
   "cell_type": "markdown",
   "metadata": {
    "nbgrader": {
     "grade": false,
     "locked": true,
     "solution": false
    }
   },
   "source": [
    "Below is some example code that should run using the `EdgeWeightedTSDirectedGraph` class above."
   ]
  },
  {
   "cell_type": "code",
   "execution_count": 63,
   "metadata": {
    "nbgrader": {
     "grade": false,
     "locked": true,
     "solution": false
    }
   },
   "outputs": [
    {
     "name": "stdout",
     "output_type": "stream",
     "text": [
      "DirectedGraph with 10 vertices and 3 edge(s):\n",
      "[(1, 2), (2, 4), (6, 1)]\n",
      "Weight of edge (2, 4): 11\n",
      "Weight of edge (6, 1): 9\n",
      "Weight of edge (1, 2): None\n"
     ]
    }
   ],
   "source": [
    "g = EdgeWeightedTSDirectedGraph(10)\n",
    "g.add_weighted_edge(2, 4, 11)\n",
    "g.add_weighted_edge(6, 1, 9)\n",
    "g.add_edge(1, 2) # add unweighted edge\n",
    "print(g)\n",
    "print(\"Weight of edge (2, 4):\", g.edge_weight(2, 4))\n",
    "print(\"Weight of edge (6, 1):\", g.edge_weight(6, 1))\n",
    "print(\"Weight of edge (1, 2):\", g.edge_weight(1, 2))"
   ]
  },
  {
   "cell_type": "code",
   "execution_count": 64,
   "metadata": {
    "nbgrader": {
     "grade": true,
     "grade_id": "EdgeWeightedTSDirectedGraph constructor",
     "locked": true,
     "points": "1",
     "solution": false
    }
   },
   "outputs": [
    {
     "name": "stdout",
     "output_type": "stream",
     "text": [
      "SUCCESS: EdgeWeightedTSDirectedGraph constructor passed all tests!\n"
     ]
    }
   ],
   "source": [
    "# tests for EdgeWeightedTSDirectedGraph constructor\n",
    "assert EdgeWeightedTSDirectedGraph.__init__ != graph.DirectedGraph.__init__, \"__init__ not overridden\"\n",
    "test_graph = EdgeWeightedTSDirectedGraph(10)\n",
    "assert str(test_graph) == \"DirectedGraph with 10 vertices and 0 edge(s):\\n[]\"\n",
    "print(\"SUCCESS: EdgeWeightedTSDirectedGraph constructor passed all tests!\")"
   ]
  },
  {
   "cell_type": "code",
   "execution_count": 65,
   "metadata": {
    "nbgrader": {
     "grade": true,
     "grade_id": "EdgeWeightedTSDirectedGraph add_weighted_edge",
     "locked": true,
     "points": "1",
     "solution": false
    },
    "scrolled": false
   },
   "outputs": [
    {
     "name": "stdout",
     "output_type": "stream",
     "text": [
      "SUCCESS: EdgeWeightedTSDirectedGraph add_weighted_edge passed all tests!\n"
     ]
    }
   ],
   "source": [
    "# test for EdgeWeightedTSDirectedGraph add_weighted_edge\n",
    "test_graph = EdgeWeightedTSDirectedGraph(10)\n",
    "test_graph.add_weighted_edge(3, 5, 42)\n",
    "assert test_graph.has_edge(3, 5)\n",
    "test_graph.add_weighted_edge(2, 3, 43)\n",
    "assert test_graph.has_edge(2, 3)\n",
    "#\n",
    "# AUTOGRADER TEST - DO NOT REMOVE\n",
    "#\n",
    "print(\"SUCCESS: EdgeWeightedTSDirectedGraph add_weighted_edge passed all tests!\")"
   ]
  },
  {
   "cell_type": "code",
   "execution_count": 66,
   "metadata": {
    "nbgrader": {
     "grade": true,
     "grade_id": "EdgeWeightedTSDirectedGraph edge_weight",
     "locked": true,
     "points": "1",
     "solution": false
    },
    "scrolled": false
   },
   "outputs": [
    {
     "name": "stdout",
     "output_type": "stream",
     "text": [
      "SUCCESS: EdgeWeightedTSDirectedGraph add_weighted_edge passed all tests!\n"
     ]
    }
   ],
   "source": [
    "# test for EdgeWeightedTSDirectedGraph edge_weight\n",
    "test_graph = EdgeWeightedTSDirectedGraph(10)\n",
    "test_graph.add_weighted_edge(3, 5, 42)\n",
    "assert test_graph.edge_weight(3, 5) == 42\n",
    "test_graph.add_weighted_edge(2, 3, 43)\n",
    "assert test_graph.edge_weight(2, 3) == 43\n",
    "test_graph.add_edge(1, 2) # We should be able to add an edge without a weight\n",
    "assert test_graph.edge_weight(1, 2) is None\n",
    "#\n",
    "# AUTOGRADER TEST - DO NOT REMOVE\n",
    "#\n",
    "print(\"SUCCESS: EdgeWeightedTSDirectedGraph add_weighted_edge passed all tests!\")"
   ]
  },
  {
   "cell_type": "code",
   "execution_count": null,
   "metadata": {
    "collapsed": true
   },
   "outputs": [],
   "source": []
  }
 ],
 "metadata": {
  "kernelspec": {
   "display_name": "Python 3",
   "language": "python",
   "name": "python3"
  },
  "language_info": {
   "codemirror_mode": {
    "name": "ipython",
    "version": 3
   },
   "file_extension": ".py",
   "mimetype": "text/x-python",
   "name": "python",
   "nbconvert_exporter": "python",
   "pygments_lexer": "ipython3",
   "version": "3.5.2"
  }
 },
 "nbformat": 4,
 "nbformat_minor": 2
}
