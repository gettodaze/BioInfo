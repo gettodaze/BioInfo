{
 "cells": [
  {
   "cell_type": "markdown",
   "metadata": {
    "nbgrader": {
     "grade": false,
     "locked": true,
     "solution": false
    }
   },
   "source": [
    "# Day 6 (9/19) in-class notebook\n",
    "\n",
    "The objectives of this notebook are to practice\n",
    "\n",
    "* the concept of read overlap and merging\n",
    "* finding solutions to the shortest superstring task\n",
    "* implementing graph data structures\n",
    "* defining Python classes\n",
    "* using inheritance with Python classes"
   ]
  },
  {
   "cell_type": "markdown",
   "metadata": {
    "nbgrader": {
     "grade": false,
     "locked": true,
     "solution": false
    }
   },
   "source": [
    "## The shortest superstring problem"
   ]
  },
  {
   "cell_type": "markdown",
   "metadata": {
    "nbgrader": {
     "grade": false,
     "locked": true,
     "solution": false
    }
   },
   "source": [
    "### PROBLEM 1: Finding the maximum overlap length of two strings (reads) (1 POINT)\n",
    "\n",
    "A key component of most algorithms for addressing the shortest superstring problem is determining the length of the longest exact overlap between two strings.  In particular, for two strings, $left$ and $right$, we need to compute $overlap\\_length(left, right)$, which is defined as the length of the longest **suffix** of $left$ that is a **prefix** of $right$.  Define a function that computes this value.  You may find the [endswith](https://docs.python.org/3/library/stdtypes.html#str.endswith) or [startswith](https://docs.python.org/3/library/stdtypes.html#str.startswith) methods of Python string objects helpful.  You do not need to implement the most efficient algorithm possible (a simple polynomial-time algorithm will suffice)."
   ]
  },
  {
   "cell_type": "code",
   "execution_count": 1,
   "metadata": {},
   "outputs": [],
   "source": [
    "# def overlap_length_fail(left, right):\n",
    "#     \"\"\"Returns the length of the longest suffix of left that is a prefix of right\"\"\"\n",
    "#     #\n",
    "#     # YOUR CODE HERE\n",
    "#     overlap_list = []\n",
    "#     overlap_len = 0\n",
    "# #    print(\"{} | {}\".format(left_reverse, right))\n",
    "#     for i, c in enumerate(left):\n",
    "# #        print(len(right))\n",
    "#         if(i > len(right)-1): \n",
    "#             break\n",
    "# #        print(i, right[i], c)\n",
    "#         if right[i] == c:\n",
    "#             overlap_len += 1\n",
    "#             overlap_list.append(c)\n",
    "# #            print(\"Len: {} | Str: {}\".format(overlap_len, ''.join(overlap_list)))\n",
    "#         else: break\n",
    "#     return overlap_len\n",
    "#     #\n",
    "# #print(\"Overlap Len: \",overlap_length_fail(\"apple\",\"app\"))\n",
    "# #print(\"Overlap Len: \",overlap_length_fail(\"hidrea\",\"aeroplane\"))\n",
    "\n",
    "\n",
    "# def overlap_length(left, right):\n",
    "#     \"\"\"Returns the length of the longest suffix of left that is a prefix of right\"\"\"\n",
    "#     #\n",
    "#     # YOUR CODE HERE\n",
    "#     overlap = ''\n",
    "#     shorter_string_len = len(left) if left < right else len(right)\n",
    "# #    print(shorter_string_len)\n",
    "#     for i in range(shorter_string_len):\n",
    "#         if left[-i-1:] == right[:i+1]:\n",
    "#             overlap = left[-i-1:]\n",
    "# #        #print(i)\n",
    "# #        print(left[-1-i:])\n",
    "# #        print(right[:i+1])\n",
    "# #            #overlap = right[:i]\n",
    "# #        #print(overlap)\n",
    "#     return len(overlap)\n",
    "# # tests for overlap_length\n",
    "# #overlap_length(\"ATGC\", \"GCAT\")"
   ]
  },
  {
   "cell_type": "code",
   "execution_count": 2,
   "metadata": {
    "collapsed": true
   },
   "outputs": [],
   "source": [
    "def overlap_length(left, right):\n",
    "    \"\"\"Returns the length of the longest suffix of left that is a prefix of right\"\"\"\n",
    "    #\n",
    "    # YOUR CODE HERE\n",
    "    overlap = ''\n",
    "    shorter_string_len = len(left) if left < right else len(right)\n",
    "    for i in range(shorter_string_len):\n",
    "        if left[-i-1:] == right[:i+1]:\n",
    "            overlap = left[-i-1:]\n",
    "    return len(overlap)"
   ]
  },
  {
   "cell_type": "code",
   "execution_count": 3,
   "metadata": {
    "nbgrader": {
     "grade": true,
     "grade_id": "overlap_length",
     "locked": true,
     "points": "1",
     "solution": false
    },
    "scrolled": true
   },
   "outputs": [
    {
     "name": "stdout",
     "output_type": "stream",
     "text": [
      "SUCCESS: overlap_length passed all tests!\n"
     ]
    }
   ],
   "source": [
    "# tests for overlap_length\n",
    "assert overlap_length(\"ATGC\", \"GCAT\") == 2\n",
    "assert overlap_length(\"AGCA\", \"AGCA\") == 4\n",
    "assert overlap_length(\"AGAG\", \"GAGT\") == 3\n",
    "assert overlap_length(\"GAGT\", \"AGAG\") == 0\n",
    "assert overlap_length(\"ATGC\", \"CA\") == 1\n",
    "assert overlap_length(\"CA\", \"ATCG\") == 1\n",
    "assert overlap_length(\"\", \"\") == 0\n",
    "print(\"SUCCESS: overlap_length passed all tests!\")"
   ]
  },
  {
   "cell_type": "markdown",
   "metadata": {
    "nbgrader": {
     "grade": false,
     "locked": true,
     "solution": false
    }
   },
   "source": [
    "### PROBLEM 2: Merging ordered reads (1 POINT)\n",
    "One way to think about constructing a superstring for a set of strings (reads) is to note that any given superstring imposes an ordering on the input strings, namely, the order in which those strings appear as substrings within the superstring.  With the assumption that no input string is a substring of any other input string, for any fixed ordering of of the input strings, there is a unique shortest superstring that imposes that ordering.  That superstring may be constructed by simply merging strings from left to right in the ordering, using the maximum possible overlap between adjacent strings.  Write a function below that computes the shortest superstring for a given ordered list of strings (reads).  You will likely need your `overlap_length` function from above."
   ]
  },
  {
   "cell_type": "code",
   "execution_count": 4,
   "metadata": {},
   "outputs": [],
   "source": [
    "def overlap_left_end_index(left, right):\n",
    "    \"\"\"Returns the length of the longest suffix of left that is a prefix of right\"\"\"\n",
    "    #\n",
    "    # YOUR CODE HERE\n",
    "    overlap = ''\n",
    "    left_end_index = None\n",
    "    if not left or not right:\n",
    "        return left_end_index\n",
    "    shorter_string_len = len(left) if left < right else len(right)\n",
    "    for i in range(shorter_string_len):\n",
    "        if left[-i-1:] == right[:i+1]:\n",
    "            overlap = left[-i-1:]\n",
    "            left_end_index = -i-1\n",
    "    return left_end_index\n",
    "# if 'a':\n",
    "#     print(\"True\")\n",
    "\n",
    "def merge_two_strings(left, right):\n",
    "    left_end_index = overlap_left_end_index(left,right)\n",
    "    merged_string = ''.join([left[:left_end_index],right])\n",
    "    return merged_string\n",
    "\n",
    "#print(merge_two_strings('dan ng', ' ngong'))\n",
    "\n",
    "def merge_ordered_reads(reads):\n",
    "    \"\"\"Returns the shortest superstring resulting from merging \n",
    "    the elements of reads, an ordered list of strings\"\"\"\n",
    "    #\n",
    "    # YOUR CODE HERE\n",
    "    superstring = ''\n",
    "    for read in reads:\n",
    "        superstring = ''.join(merge_two_strings(superstring,read))\n",
    "    return superstring\n",
    "    \n",
    "    #\n"
   ]
  },
  {
   "cell_type": "code",
   "execution_count": 5,
   "metadata": {
    "nbgrader": {
     "grade": true,
     "grade_id": "merge_ordered_reads",
     "locked": true,
     "points": "1",
     "solution": false
    }
   },
   "outputs": [
    {
     "name": "stdout",
     "output_type": "stream",
     "text": [
      "SUCCESS: merge_ordered_reads passed all tests!\n"
     ]
    }
   ],
   "source": [
    "# tests for merge_ordered_reads\n",
    "assert merge_ordered_reads([\"AGAG\", \"GAGT\"]) == \"AGAGT\"\n",
    "assert merge_ordered_reads([\"AGAG\"]) == \"AGAG\"\n",
    "assert merge_ordered_reads([\"AGAG\", \"GAGT\", \"AGTC\"]) == \"AGAGTC\"\n",
    "assert merge_ordered_reads([\"AGAG\", \"CGAG\", \"TCGA\"]) == \"AGAGCGAGTCGA\"\n",
    "assert merge_ordered_reads([]) == \"\"\n",
    "print(\"SUCCESS: merge_ordered_reads passed all tests!\")"
   ]
  },
  {
   "cell_type": "markdown",
   "metadata": {
    "nbgrader": {
     "grade": false,
     "locked": true,
     "solution": false
    }
   },
   "source": [
    "### PROBLEM 3: Brute-force shortest superstring algorithm (1 POINT)\n",
    "Continuing with the reasoning from the previous problem, note that a shortest superstring for a set of (unordered) strings corresponds to some ordering of the strings.  So if we try every possible ordering of the strings and compute the shortest superstring for each ordering (using the `merge_ordered_reads` function above), we could find a solution to the shortest superstring problem.  Write a function `shortest_superstring` below, which implements this \"brute-force\" strategy for solving the shortest superstring problem given a set of input strings (reads).\n",
    "\n",
    "You will likely find the [`permutations`](https://docs.python.org/3/library/itertools.html#itertools.permutations) function from the [`itertools`](https://docs.python.org/3/library/itertools.html) module in the Python standard library of use.  This function returns an iterator over all possible orderings (permutations) of the sequence given to it as input.\n",
    "\n",
    "In the case that there are multiple shortest superstrings, your function should return the superstring that is lexicographically smallest (i.e., first in alphabetical order)."
   ]
  },
  {
   "cell_type": "code",
   "execution_count": 6,
   "metadata": {},
   "outputs": [],
   "source": [
    "import itertools\n",
    "import math\n",
    "\n",
    "\n",
    "def shortest_superstring(reads):\n",
    "    \"\"\"Returns the shortest superstring of reads, a list of strings.\n",
    "    In the case of multiple shortest superstrings, the lexicographically smallest is returned.\n",
    "    Assumes that no string in the input is a substring of another input string.\n",
    "    \"\"\"\n",
    "    #\n",
    "    permutations = itertools.permutations(reads)\n",
    "    shortest_superstring = merge_ordered_reads(reads)\n",
    "    shortest_length = len(shortest_superstring)\n",
    "    for p in permutations:\n",
    "#        print(p)\n",
    "#        print(shortest_superstring)\n",
    "        superstring = merge_ordered_reads(p)\n",
    "#        print(superstring)\n",
    "        if len(superstring) < shortest_length:\n",
    "            shortest_superstring = superstring\n",
    "            shortest_length = len(superstring)\n",
    "        elif len(superstring) == shortest_length and superstring < shortest_superstring:\n",
    "            shortest_superstring = superstring\n",
    "    return shortest_superstring\n",
    "    \n",
    "    #"
   ]
  },
  {
   "cell_type": "code",
   "execution_count": 7,
   "metadata": {
    "nbgrader": {
     "grade": true,
     "grade_id": "shortest_superstring",
     "locked": true,
     "points": "1",
     "solution": false
    }
   },
   "outputs": [
    {
     "name": "stdout",
     "output_type": "stream",
     "text": [
      "SUCCESS: shortest_superstring passed all tests!\n"
     ]
    }
   ],
   "source": [
    "# tests for shortest_superstring\n",
    "assert shortest_superstring(['AGAT', 'CAGA', 'ATAT']) == \"CAGATAT\"\n",
    "assert shortest_superstring(['GACC', 'ATCC', 'TACC']) == \"ATCCGACCTACC\"\n",
    "assert shortest_superstring(['TGA', 'GAC', 'ATGC']) == \"ATGCTGAC\"\n",
    "assert shortest_superstring(['TGA']) == \"TGA\"\n",
    "assert shortest_superstring(['TGA', 'CTG']) == \"CTGA\"\n",
    "print(\"SUCCESS: shortest_superstring passed all tests!\")"
   ]
  },
  {
   "cell_type": "markdown",
   "metadata": {
    "nbgrader": {
     "grade": false,
     "locked": true,
     "solution": false
    }
   },
   "source": [
    "### Thinking about the brute-force shortest superstring algorithm\n",
    "Assuming you have written it correctly, the above function solves the shortest superstring problem.  Is the algorithm implemented by this function efficient?  In the cell below, write down your thoughts regarding the computational complexity of this algorithm."
   ]
  },
  {
   "cell_type": "markdown",
   "metadata": {},
   "source": [
    "*YOUR THOUGHTS HERE REGARDING THE COMPUTATIONAL COMPLEXITY OF THE ALGORITHM YOU IMPLEMENTED ABOVE*\n",
    "It's awful. It is n!, which is something that needs to be avoided at all costs, even with ever-increasing processing power"
   ]
  },
  {
   "cell_type": "markdown",
   "metadata": {
    "nbgrader": {
     "grade": false,
     "locked": true,
     "solution": false
    }
   },
   "source": [
    "### Experimenting with your shortest superstring algorithm\n",
    "If you have time, experiment with running your brute-force shortest superstring algorithm on various inputs.  For example,\n",
    "\n",
    "1. Experiment with inputs of random DNA strings (I've provided some code for you below to generate such strings).  How short can the shortest superstring be given random inputs, relative to the the trival superstring, which simply concatenates the input strings?  Perhaps try with many random inputs and plot the distribution of the shortest superstring length, say with the [hist](https://matplotlib.org/api/_as_gen/matplotlib.pyplot.hist.html) function of Pyplot.\n",
    "\n",
    "2. Experiment with (very small sets) of strings generated by your shotgun sequencing simulator in the Day 4 notebook.  Does the shortest superstring reconstruct the full DNA sequence?  "
   ]
  },
  {
   "cell_type": "code",
   "execution_count": 8,
   "metadata": {
    "collapsed": true,
    "nbgrader": {
     "grade": false,
     "locked": true,
     "solution": false
    }
   },
   "outputs": [],
   "source": [
    "# Some functions that you may find of use in experimenting with random inputs of DNA strings\n",
    "import random\n",
    "DNA_BASES = \"ACGT\"\n",
    "\n",
    "def random_dna_string(length):\n",
    "    \"\"\"Returns a random DNA string of the given length\"\"\"\n",
    "    return ''.join([random.choice(DNA_BASES) for i in range(length)])\n",
    "\n",
    "def random_dna_strings(length, num_strings):\n",
    "    \"\"\"Returns a list of num_strings random DNA strings of the given length\"\"\"\n",
    "    return [random_dna_string(length) for i in range(num_strings)]"
   ]
  },
  {
   "cell_type": "markdown",
   "metadata": {},
   "source": [
    "*YOUR EXPERIMENTS HERE*\n",
    "Did not have time."
   ]
  },
  {
   "cell_type": "markdown",
   "metadata": {
    "nbgrader": {
     "grade": false,
     "locked": true,
     "solution": false
    }
   },
   "source": [
    "## Implementing graphs as Python classes\n",
    "Many sequence assembly algorithms are formulated in terms of *graphs*.  In this section of the notebook, we will define a Python class that implements a graph data structure."
   ]
  },
  {
   "cell_type": "markdown",
   "metadata": {
    "nbgrader": {
     "grade": false,
     "locked": true,
     "solution": false
    }
   },
   "source": [
    "### A base class for directed graphs\n",
    "\n",
    "There are many possible ways to implement a graph data structure and each has its own strengths and weaknesses in terms of memory usage and efficiency of various graph operations.  Algorithms that use graphs do not necessarily need to know how those graphs are implemented, and therefore it is helpful to separate the *interface* of a graph object from its underlying *implementation*.  Classes are a great way to provide such abstractions.\n",
    "\n",
    "Below I have provided a *base* class for a directed graph, which specifies the interface that a general directed graph object should have.  This is an *abstract base class*, which is only meant to provide an interface and some default method definitions.  It is not meant to be instantiated directly.  Note that the key methods of `had_edge` and `add_edge` are not implemented.\n",
    "\n",
    "With this direct graph class, we simply refer to each vertex by an integer index (0 to `num_vertices - 1`), and an edge *from* vertex `i` *to* vertex `j` is represented by the tuple `(i, j)`.\n",
    "\n",
    "Study the class definition below to understand the inferface and the default implementations."
   ]
  },
  {
   "cell_type": "code",
   "execution_count": 9,
   "metadata": {
    "collapsed": true,
    "nbgrader": {
     "grade": false,
     "locked": true,
     "solution": false
    }
   },
   "outputs": [],
   "source": [
    "class DirectedGraph:\n",
    "    \"\"\"Abstract base class for a directed graph.\n",
    "\n",
    "    A functional directed graph class can be obtained by inheriting from \n",
    "    this class and overriding the methods has_edge and add_edge.  All other\n",
    "    methods have default implementations, which may not be the most efficient.\n",
    "    These other methods should also be overriden as appropriate to improve\n",
    "    efficiency.\n",
    "    \"\"\"\n",
    "    def __init__(self, num_vertices):\n",
    "        \"\"\"Constructs a directed graph with num_vertices vertices and zero edges\"\"\"\n",
    "        self._num_vertices = num_vertices\n",
    "    \n",
    "    def has_edge(self, i, j):\n",
    "        \"\"\"Returns True if the graph contains the directed edge (i, j), False otherwise.\"\"\"\n",
    "        raise NotImplementedError\n",
    "        \n",
    "    def add_edge(self, i, j):\n",
    "        \"\"\"Adds the directed edge (i, j) to the graph.\"\"\"\n",
    "        raise NotImplementedError\n",
    "        \n",
    "    def out_edges(self, i):\n",
    "        \"\"\"Returns a list of directed edges outgoing from vertex i.\"\"\"\n",
    "        return [(i, j) for j in range(self._num_vertices) if self.has_edge(i, j)]\n",
    "    \n",
    "    def in_edges(self, j):\n",
    "        \"\"\"Returns a list of directed edges incoming to vertex j.\"\"\"\n",
    "        return [(i, j) for i in range(self._num_vertices) if self.has_edge(i, j)]\n",
    "    \n",
    "    def outdegree(self, i):\n",
    "        \"\"\"Returns the outdegree of vertex i.\"\"\"\n",
    "        return len(self.out_edges(i))\n",
    "    \n",
    "    def indegree(self, i):\n",
    "        \"\"\"Returns the indegree of vertex i.\"\"\"\n",
    "        return len(self.in_edges(i))\n",
    "    \n",
    "    def degree(self, i):\n",
    "        \"\"\"Returns the degree of vertex i.\"\"\"\n",
    "        return self.indegree(i) + self.outdegree(i)\n",
    "        \n",
    "    def add_edges(self, edges):\n",
    "        \"\"\"Adds all edges from a list to the graph.\"\"\"\n",
    "        for i, j in edges:\n",
    "            self.add_edge(i, j)\n",
    "            \n",
    "    def num_vertices(self):\n",
    "        \"\"\"Returns the number of vertices in the graph.\"\"\"\n",
    "        return self._num_vertices\n",
    "\n",
    "    def num_edges(self):\n",
    "        \"\"\"Returns the number of edges in the graph.\"\"\"\n",
    "        return len(tuple(self.edges()))\n",
    "    \n",
    "    def edges(self):\n",
    "        \"\"\"Returns an iterator over the edges of the graph.\"\"\"\n",
    "        for i in range(self._num_vertices):\n",
    "            for edge in self.out_edges(i):\n",
    "                yield edge\n",
    "    \n",
    "    def __str__(self):\n",
    "        \"\"\"Returns a string representation of the graph, so that it may be printed.\"\"\"\n",
    "        return \"DirectedGraph with %d vertices and %d edge(s):\\n%s\" % (self.num_vertices(),\n",
    "                                                                       self.num_edges(),\n",
    "                                                                       sorted(self.edges()))"
   ]
  },
  {
   "cell_type": "markdown",
   "metadata": {
    "nbgrader": {
     "grade": false,
     "locked": true,
     "solution": false
    }
   },
   "source": [
    "### A trival functional DirectedGraph class\n",
    "As an example of how to construct a fully-functional class that provides the DirectedGraph interface, below is a class that simply stores its edges in a set.  This results in relatively inefficient graph operations.  Examine the implementation below and how it *inherits* functionality from the base class `DirectedGraph`."
   ]
  },
  {
   "cell_type": "code",
   "execution_count": 10,
   "metadata": {
    "collapsed": true,
    "nbgrader": {
     "grade": false,
     "locked": true,
     "solution": false
    }
   },
   "outputs": [],
   "source": [
    "class TrivialSetDirectedGraph(DirectedGraph):\n",
    "    def __init__(self, num_vertices):\n",
    "        # call the parent class's constructor\n",
    "        super().__init__(num_vertices)\n",
    "        # start with an empty set of edges\n",
    "        self._edges = set()\n",
    "    \n",
    "    def has_edge(self, i, j):\n",
    "        return (i, j) in self._edges\n",
    "        \n",
    "    def add_edge(self, i, j):\n",
    "        self._edges.add((i, j))"
   ]
  },
  {
   "cell_type": "code",
   "execution_count": 11,
   "metadata": {
    "nbgrader": {
     "grade": false,
     "locked": true,
     "solution": false
    },
    "scrolled": true
   },
   "outputs": [
    {
     "name": "stdout",
     "output_type": "stream",
     "text": [
      "DirectedGraph with 4 vertices and 0 edge(s):\n",
      "[]\n",
      "DirectedGraph with 4 vertices and 1 edge(s):\n",
      "[(3, 0)]\n",
      "DirectedGraph with 4 vertices and 4 edge(s):\n",
      "[(0, 2), (2, 3), (3, 0), (3, 1)]\n",
      "Outdegree of vertex 3 = 2\n",
      "Graph has edge (2, 3): True\n",
      "Graph has edge (3, 2): False\n"
     ]
    }
   ],
   "source": [
    "# An example of using TrivalSetDirectedGraph\n",
    "my_graph = TrivialSetDirectedGraph(4)\n",
    "print(my_graph)\n",
    "my_graph.add_edge(3, 0)\n",
    "print(my_graph)\n",
    "my_graph.add_edges([(0, 2), (2, 3), (3, 1)])\n",
    "print(my_graph)\n",
    "print(\"Outdegree of vertex 3 =\", my_graph.outdegree(3))\n",
    "print(\"Graph has edge (2, 3):\", my_graph.has_edge(2, 3))\n",
    "print(\"Graph has edge (3, 2):\", my_graph.has_edge(3, 2))"
   ]
  },
  {
   "cell_type": "markdown",
   "metadata": {
    "nbgrader": {
     "grade": false,
     "locked": true,
     "solution": false
    }
   },
   "source": [
    "### PROBLEM 4: Adjacency list implementation of a directed graph (4 POINTS)\n",
    "A more efficent and common implementation strategy for graphs is to use *adjacency lists*.  In an adjacency list data structure, for each vertex, a list of vertices to which that vertex is connected by an edge is maintained.  For directed graphs, two lists per vertex can be used, one for all vertices that are adjacent via an *outgoing* edge and one for all vertices that are adjacent via an *incoming* edge.\n",
    "\n",
    "With this implementation strategy, define the `AdjacencyListDirectedGraph` class below.  You will need to provide concrete definitions for the methods `add_edge` and `has_edge`.  You also need to override the constructor `__init__`, and methods `out_edges`, `in_edges`, `indegree`, and `outdegree` to make them more efficient with this implementation."
   ]
  },
  {
   "cell_type": "code",
   "execution_count": 26,
   "metadata": {
    "collapsed": true
   },
   "outputs": [],
   "source": [
    "class AdjacencyListDirectedGraph(DirectedGraph):\n",
    "    def __init__(self, num_vertices):\n",
    "        #\n",
    "        # YOUR CODE HERE\n",
    "        self._num_vertices = num_vertices\n",
    "        self._edges = set()\n",
    "        \n",
    "        #\n",
    "    \n",
    "    def add_edge(self, i, j):\n",
    "        #\n",
    "        # YOUR CODE HERE\n",
    "        self._edges.add((i,j))\n",
    "        #\n",
    "    \n",
    "    def has_edge(self, i, j):\n",
    "        #\n",
    "        # YOUR CODE HERE\n",
    "        return (i,j) in self._edges\n",
    "        #\n",
    "        \n",
    "    def out_edges(self, i):\n",
    "        #\n",
    "        # YOUR CODE HERE\n",
    "        return [(i,j) for j in range(self.num_vertices()) if self.has_edge(i,j)]\n",
    "            \n",
    "        #\n",
    "        \n",
    "    def in_edges(self, j):\n",
    "        #\n",
    "        # YOUR CODE HERE\n",
    "        return [(i,j) for i in range(self.num_vertices()) if self.has_edge(i,j)]\n",
    "        #\n",
    "    \n",
    "    def indegree(self, i):\n",
    "        #\n",
    "        # YOUR CODE HERE\n",
    "        return len(self.in_edges(i))\n",
    "        #\n",
    "        \n",
    "    def outdegree(self, i):\n",
    "        #\n",
    "        # YOUR CODE HERE\n",
    "        return len(self.out_edges(i))\n",
    "        #\n",
    "        \n",
    "    def degree(self, i):\n",
    "        \"\"\"Returns the degree of vertex i.\"\"\"\n",
    "        return self.indegree(i) + self.outdegree(i)\n",
    "        \n",
    "    def add_edges(self, edges):\n",
    "        \"\"\"Adds all edges from a list to the graph.\"\"\"\n",
    "        for i, j in edges:\n",
    "            self.add_edge(i, j)\n",
    "            \n",
    "    def num_vertices(self):\n",
    "        \"\"\"Returns the number of vertices in the graph.\"\"\"\n",
    "        return self._num_vertices\n",
    "\n",
    "    def num_edges(self):\n",
    "        \"\"\"Returns the number of edges in the graph.\"\"\"\n",
    "        return len(tuple(self.edges()))\n",
    "    \n",
    "    def edges(self):\n",
    "        \"\"\"Returns an iterator over the edges of the graph.\"\"\"\n",
    "        for i in range(self._num_vertices):\n",
    "            for edge in self.out_edges(i):\n",
    "                yield edge\n",
    "                \n",
    "    \n",
    "    def __str__(self):\n",
    "        \"\"\"Returns a string representation of the graph, so that it may be printed.\"\"\"\n",
    "        nv = self.num_vertices()\n",
    "        ne = self.num_edges()\n",
    "        e = sorted(self.edges())\n",
    "        return \"DirectedGraph with %d vertices and %d edge(s):\\n%s\" % (nv, ne, e)\n"
   ]
  },
  {
   "cell_type": "code",
   "execution_count": 27,
   "metadata": {
    "nbgrader": {
     "grade": true,
     "grade_id": "AdjacencyListDirectedGraph constructor",
     "locked": true,
     "points": "1",
     "solution": false
    },
    "scrolled": false
   },
   "outputs": [
    {
     "name": "stdout",
     "output_type": "stream",
     "text": [
      "SUCCESS: AdjacencyListDirectedGraph constructor passed all tests!\n"
     ]
    }
   ],
   "source": [
    "# test for AdjacencyListDirectedGraph constructor\n",
    "assert AdjacencyListDirectedGraph.__init__ != DirectedGraph.__init__, \"__init__ not overridden\"\n",
    "test_graph = AdjacencyListDirectedGraph(10)\n",
    "assert str(test_graph) == \"DirectedGraph with 10 vertices and 0 edge(s):\\n[]\"\n",
    "print(\"SUCCESS: AdjacencyListDirectedGraph constructor passed all tests!\")"
   ]
  },
  {
   "cell_type": "code",
   "execution_count": 28,
   "metadata": {
    "nbgrader": {
     "grade": true,
     "grade_id": "AdjacencyListDirectedGraph add_edge and has_edge",
     "locked": true,
     "points": "1",
     "solution": false
    },
    "scrolled": false
   },
   "outputs": [
    {
     "name": "stdout",
     "output_type": "stream",
     "text": [
      "SUCCESS: AdjacencyListDirectedGraph add_edge and has_edge passed all tests!\n"
     ]
    }
   ],
   "source": [
    "# test for AdjacencyListDirectedGraph add_edge and has_edge\n",
    "test_graph = AdjacencyListDirectedGraph(10)\n",
    "test_graph.add_edge(3, 5)\n",
    "assert test_graph.has_edge(3, 5)\n",
    "test_graph.add_edge(2, 3)\n",
    "assert test_graph.has_edge(2, 3)\n",
    "assert not test_graph.has_edge(3, 2)\n",
    "assert sorted(test_graph.edges()) == [(2, 3), (3, 5)]\n",
    "print(\"SUCCESS: AdjacencyListDirectedGraph add_edge and has_edge passed all tests!\")"
   ]
  },
  {
   "cell_type": "code",
   "execution_count": 29,
   "metadata": {
    "nbgrader": {
     "grade": true,
     "grade_id": "AdjacencyListDirectedGraph out_edges and in_edges",
     "locked": true,
     "points": "1",
     "solution": false
    },
    "scrolled": false
   },
   "outputs": [
    {
     "name": "stdout",
     "output_type": "stream",
     "text": [
      "SUCCESS: AdjacencyListDirectedGraph out_edges and in_edges passed all tests!\n"
     ]
    }
   ],
   "source": [
    "# test for AdjacencyListDirectedGraph out_edges and in_edges\n",
    "assert AdjacencyListDirectedGraph.out_edges != DirectedGraph.out_edges, \"out_edges not overridden\"\n",
    "assert AdjacencyListDirectedGraph.in_edges != DirectedGraph.in_edges, \"in_edges not overridden\"\n",
    "test_graph = AdjacencyListDirectedGraph(10)\n",
    "test_graph.add_edges([(2, 3), (2, 4), (4, 0)])\n",
    "assert test_graph.out_edges(2) == [(2, 3), (2, 4)]\n",
    "assert test_graph.out_edges(0) == []\n",
    "assert test_graph.in_edges(0) == [(4, 0)]\n",
    "assert test_graph.in_edges(2) == []\n",
    "print(\"SUCCESS: AdjacencyListDirectedGraph out_edges and in_edges passed all tests!\")"
   ]
  },
  {
   "cell_type": "code",
   "execution_count": 30,
   "metadata": {
    "nbgrader": {
     "grade": true,
     "grade_id": "AdjacencyListDirectedGraph outdegree and indegree",
     "locked": true,
     "points": "1",
     "solution": false
    }
   },
   "outputs": [
    {
     "name": "stdout",
     "output_type": "stream",
     "text": [
      "SUCCESS: AdjacencyListDirectedGraph outdegree and indegree passed all tests!\n"
     ]
    }
   ],
   "source": [
    "# test for AdjacencyListDirectedGraph outdegree and indegree\n",
    "assert AdjacencyListDirectedGraph.outdegree != DirectedGraph.outdegree, \"outdegree not overridden\"\n",
    "assert AdjacencyListDirectedGraph.indegree != DirectedGraph.indegree, \"indegree not overridden\"\n",
    "test_graph = AdjacencyListDirectedGraph(10)\n",
    "test_graph.add_edges([(2, 3), (2, 4), (4, 0)])\n",
    "assert test_graph.outdegree(2) == 2\n",
    "assert test_graph.outdegree(0) == 0\n",
    "assert test_graph.indegree(0) == 1\n",
    "assert test_graph.indegree(2) == 0\n",
    "print(\"SUCCESS: AdjacencyListDirectedGraph outdegree and indegree passed all tests!\")"
   ]
  },
  {
   "cell_type": "code",
   "execution_count": null,
   "metadata": {
    "collapsed": true
   },
   "outputs": [],
   "source": []
  }
 ],
 "metadata": {
  "kernelspec": {
   "display_name": "Python 3",
   "language": "python",
   "name": "python3"
  },
  "language_info": {
   "codemirror_mode": {
    "name": "ipython",
    "version": 3
   },
   "file_extension": ".py",
   "mimetype": "text/x-python",
   "name": "python",
   "nbconvert_exporter": "python",
   "pygments_lexer": "ipython3",
   "version": "3.5.2"
  }
 },
 "nbformat": 4,
 "nbformat_minor": 2
}
